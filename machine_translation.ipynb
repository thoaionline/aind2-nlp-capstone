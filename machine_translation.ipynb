{
 "cells": [
  {
   "cell_type": "markdown",
   "metadata": {
    "collapsed": true
   },
   "source": [
    "# Artificial Intelligence Nanodegree\n",
    "## Machine Translation Project\n",
    "In this notebook, sections that end with **'(IMPLEMENTATION)'** in the header indicate that the following blocks of code will require additional functionality which you must provide. Please be sure to read the instructions carefully!\n",
    "\n",
    "## Introduction\n",
    "In this notebook, you will build a deep neural network that functions as part of an end-to-end machine translation pipeline. Your completed pipeline will accept English text as input and return the French translation.\n",
    "\n",
    "- **Preprocess** - You'll convert text to sequence of integers.\n",
    "- **Models** Create models which accepts a sequence of integers as input and returns a probability distribution over possible translations. After learning about the basic types of neural networks that are often used for machine translation, you will engage in your own investigations, to design your own model!\n",
    "- **Prediction** Run the model on English text.\n",
    "\n",
    "## Dataset\n",
    "We begin by investigating the dataset that will be used to train and evaluate your pipeline.  The most common datasets used for machine translation are from [WMT](http://www.statmt.org/).  However, that will take a long time to train a neural network on.  We'll be using a dataset we created for this project that contains a small vocabulary.  You'll be able to train your model in a reasonable time with this dataset.\n",
    "### Load Data\n",
    "The data is located in `data/small_vocab_en` and `data/small_vocab_fr`. The `small_vocab_en` file contains English sentences with their French translations in the `small_vocab_fr` file. Load the English and French data from these files from running the cell below."
   ]
  },
  {
   "cell_type": "code",
   "execution_count": 192,
   "metadata": {
    "collapsed": true
   },
   "outputs": [],
   "source": [
    "%load_ext autoreload\n",
    "%autoreload 2"
   ]
  },
  {
   "cell_type": "code",
   "execution_count": 54,
   "metadata": {},
   "outputs": [
    {
     "name": "stdout",
     "output_type": "stream",
     "text": [
      "Dataset Loaded\n"
     ]
    }
   ],
   "source": [
    "import helper\n",
    "\n",
    "\n",
    "# Load English data\n",
    "english_sentences = helper.load_data('data/small_vocab_en')\n",
    "# Load French data\n",
    "french_sentences = helper.load_data('data/small_vocab_fr')\n",
    "\n",
    "print('Dataset Loaded')"
   ]
  },
  {
   "cell_type": "markdown",
   "metadata": {},
   "source": [
    "### Files\n",
    "Each line in `small_vocab_en` contains an English sentence with the respective translation in each line of `small_vocab_fr`.  View the first two lines from each file."
   ]
  },
  {
   "cell_type": "code",
   "execution_count": 55,
   "metadata": {},
   "outputs": [
    {
     "name": "stdout",
     "output_type": "stream",
     "text": [
      "small_vocab_en Line 1:  new jersey is sometimes quiet during autumn , and it is snowy in april .\n",
      "small_vocab_fr Line 1:  new jersey est parfois calme pendant l' automne , et il est neigeux en avril .\n",
      "small_vocab_en Line 2:  the united states is usually chilly during july , and it is usually freezing in november .\n",
      "small_vocab_fr Line 2:  les Ã©tats-unis est gÃ©nÃ©ralement froid en juillet , et il gÃ¨le habituellement en novembre .\n"
     ]
    }
   ],
   "source": [
    "for sample_i in range(2):\n",
    "    print('small_vocab_en Line {}:  {}'.format(sample_i + 1, english_sentences[sample_i]))\n",
    "    print('small_vocab_fr Line {}:  {}'.format(sample_i + 1, french_sentences[sample_i]))"
   ]
  },
  {
   "cell_type": "markdown",
   "metadata": {},
   "source": [
    "From looking at the sentences, you can see they have been preprocessed already.  The puncuations have been delimited using spaces. All the text have been converted to lowercase.  This should save you some time, but the text requires more preprocessing.\n",
    "### Vocabulary\n",
    "The complexity of the problem is determined by the complexity of the vocabulary.  A more complex vocabulary is a more complex problem.  Let's look at the complexity of the dataset we'll be working with."
   ]
  },
  {
   "cell_type": "code",
   "execution_count": 56,
   "metadata": {},
   "outputs": [
    {
     "name": "stdout",
     "output_type": "stream",
     "text": [
      "1823250 English words.\n",
      "227 unique English words.\n",
      "10 Most common words in the English dataset:\n",
      "\"is\" \",\" \".\" \"in\" \"it\" \"during\" \"the\" \"but\" \"and\" \"sometimes\"\n",
      "\n",
      "1961295 French words.\n",
      "355 unique French words.\n",
      "10 Most common words in the French dataset:\n",
      "\"est\" \".\" \",\" \"en\" \"il\" \"les\" \"mais\" \"et\" \"la\" \"parfois\"\n"
     ]
    }
   ],
   "source": [
    "import collections\n",
    "\n",
    "\n",
    "english_words_counter = collections.Counter([word for sentence in english_sentences for word in sentence.split()])\n",
    "french_words_counter = collections.Counter([word for sentence in french_sentences for word in sentence.split()])\n",
    "\n",
    "print('{} English words.'.format(len([word for sentence in english_sentences for word in sentence.split()])))\n",
    "print('{} unique English words.'.format(len(english_words_counter)))\n",
    "print('10 Most common words in the English dataset:')\n",
    "print('\"' + '\" \"'.join(list(zip(*english_words_counter.most_common(10)))[0]) + '\"')\n",
    "print()\n",
    "print('{} French words.'.format(len([word for sentence in french_sentences for word in sentence.split()])))\n",
    "print('{} unique French words.'.format(len(french_words_counter)))\n",
    "print('10 Most common words in the French dataset:')\n",
    "print('\"' + '\" \"'.join(list(zip(*french_words_counter.most_common(10)))[0]) + '\"')"
   ]
  },
  {
   "cell_type": "markdown",
   "metadata": {},
   "source": [
    "For comparison, _Alice's Adventures in Wonderland_ contains 2,766 unique words of a total of 15,500 words.\n",
    "## Preprocess\n",
    "For this project, you won't use text data as input to your model. Instead, you'll convert the text into sequences of integers using the following preprocess methods:\n",
    "1. Tokenize the words into ids\n",
    "2. Add padding to make all the sequences the same length.\n",
    "\n",
    "Time to start preprocessing the data...\n",
    "### Tokenize (IMPLEMENTATION)\n",
    "For a neural network to predict on text data, it first has to be turned into data it can understand. Text data like \"dog\" is a sequence of ASCII character encodings.  Since a neural network is a series of multiplication and addition operations, the input data needs to be number(s).\n",
    "\n",
    "We can turn each character into a number or each word into a number.  These are called character and word ids, respectively.  Character ids are used for character level models that generate text predictions for each character.  A word level model uses word ids that generate text predictions for each word.  Word level models tend to learn better, since they are lower in complexity, so we'll use those.\n",
    "\n",
    "Turn each sentence into a sequence of words ids using Keras's [`Tokenizer`](https://keras.io/preprocessing/text/#tokenizer) function. Use this function to tokenize `english_sentences` and `french_sentences` in the cell below.\n",
    "\n",
    "Running the cell will run `tokenize` on sample data and show output for debugging."
   ]
  },
  {
   "cell_type": "code",
   "execution_count": 57,
   "metadata": {},
   "outputs": [
    {
     "name": "stdout",
     "output_type": "stream",
     "text": [
      "{'lexicography': 18, 'study': 21, 'prize': 5, 'a': 1, 'my': 7, 'lazy': 8, 'this': 16, 'short': 9, 'jumps': 10, 'over': 17, 'by': 11, 'fox': 12, 'sentence': 13, 'of': 4, 'won': 15, 'is': 20, 'the': 2, 'dog': 14, 'brown': 19, 'quick': 3, 'jove': 6}\n",
      "\n",
      "Sequence 1 in x\n",
      "  Input:  The quick brown fox jumps over the lazy dog .\n",
      "  Output: [2, 3, 19, 12, 10, 17, 2, 8, 14]\n",
      "Sequence 2 in x\n",
      "  Input:  By Jove , my quick study of lexicography won a prize .\n",
      "  Output: [11, 6, 7, 3, 21, 4, 18, 15, 1, 5]\n",
      "Sequence 3 in x\n",
      "  Input:  This is a short sentence .\n",
      "  Output: [16, 20, 1, 9, 13]\n"
     ]
    }
   ],
   "source": [
    "import project_tests as tests\n",
    "from keras.preprocessing.text import Tokenizer\n",
    "\n",
    "\n",
    "def tokenize(x):\n",
    "    \"\"\"\n",
    "    Tokenize x\n",
    "    :param x: List of sentences/strings to be tokenized\n",
    "    :return: Tuple of (tokenized x data, tokenizer used to tokenize x)\n",
    "    \"\"\"\n",
    "    tokenizer = Tokenizer()\n",
    "    tokenizer.fit_on_texts(x)\n",
    "    tokenized_sentences = tokenizer.texts_to_sequences(x)\n",
    "\n",
    "    return tokenized_sentences, tokenizer\n",
    "\n",
    "tests.test_tokenize(tokenize)\n",
    "\n",
    "# Tokenize Example output\n",
    "text_sentences = [\n",
    "    'The quick brown fox jumps over the lazy dog .',\n",
    "    'By Jove , my quick study of lexicography won a prize .',\n",
    "    'This is a short sentence .']\n",
    "text_tokenized, text_tokenizer = tokenize(text_sentences)\n",
    "print(text_tokenizer.word_index)\n",
    "print()\n",
    "for sample_i, (sent, token_sent) in enumerate(zip(text_sentences, text_tokenized)):\n",
    "    print('Sequence {} in x'.format(sample_i + 1))\n",
    "    print('  Input:  {}'.format(sent))\n",
    "    print('  Output: {}'.format(token_sent))"
   ]
  },
  {
   "cell_type": "markdown",
   "metadata": {},
   "source": [
    "### Padding (IMPLEMENTATION)\n",
    "When batching the sequence of word ids together, each sequence needs to be the same length.  Since sentences are dynamic in length, we can add padding to the end of the sequences to make them the same length.\n",
    "\n",
    "Make sure all the English sequences have the same length and all the French sequences have the same length by adding padding to the **end** of each sequence using Keras's [`pad_sequences`](https://keras.io/preprocessing/sequence/#pad_sequences) function."
   ]
  },
  {
   "cell_type": "code",
   "execution_count": 58,
   "metadata": {},
   "outputs": [
    {
     "name": "stdout",
     "output_type": "stream",
     "text": [
      "Sequence 1 in x\n",
      "  Input:  [ 2  3 19 12 10 17  2  8 14]\n",
      "  Output: [ 2  3 19 12 10 17  2  8 14  0]\n",
      "Sequence 2 in x\n",
      "  Input:  [11  6  7  3 21  4 18 15  1  5]\n",
      "  Output: [11  6  7  3 21  4 18 15  1  5]\n",
      "Sequence 3 in x\n",
      "  Input:  [16 20  1  9 13]\n",
      "  Output: [16 20  1  9 13  0  0  0  0  0]\n"
     ]
    }
   ],
   "source": [
    "import numpy as np\n",
    "from keras.preprocessing.sequence import pad_sequences\n",
    "\n",
    "\n",
    "def pad(x, length=None):\n",
    "    \"\"\"\n",
    "    Pad x\n",
    "    :param x: List of sequences.\n",
    "    :param length: Length to pad the sequence to.  If None, use length of longest sequence in x.\n",
    "    :return: Padded numpy array of sequences\n",
    "    \"\"\"\n",
    "    return pad_sequences(x,padding='post',maxlen=length)\n",
    "\n",
    "tests.test_pad(pad)\n",
    "\n",
    "# Pad Tokenized output\n",
    "test_pad = pad(text_tokenized)\n",
    "for sample_i, (token_sent, pad_sent) in enumerate(zip(text_tokenized, test_pad)):\n",
    "    print('Sequence {} in x'.format(sample_i + 1))\n",
    "    print('  Input:  {}'.format(np.array(token_sent)))\n",
    "    print('  Output: {}'.format(pad_sent))"
   ]
  },
  {
   "cell_type": "markdown",
   "metadata": {},
   "source": [
    "### Preprocess Pipeline\n",
    "Your focus for this project is to build neural network architecture, so we won't ask you to create a preprocess pipeline.  Instead, we've provided you with the implementation of the `preprocess` function."
   ]
  },
  {
   "cell_type": "code",
   "execution_count": 59,
   "metadata": {},
   "outputs": [
    {
     "name": "stdout",
     "output_type": "stream",
     "text": [
      "Data Preprocessed\n"
     ]
    }
   ],
   "source": [
    "def preprocess(x, y):\n",
    "    \"\"\"\n",
    "    Preprocess x and y\n",
    "    :param x: Feature List of sentences\n",
    "    :param y: Label List of sentences\n",
    "    :return: Tuple of (Preprocessed x, Preprocessed y, x tokenizer, y tokenizer)\n",
    "    \"\"\"\n",
    "    preprocess_x, x_tk = tokenize(x)\n",
    "    preprocess_y, y_tk = tokenize(y)\n",
    "\n",
    "    preprocess_x = pad(preprocess_x)\n",
    "    preprocess_y = pad(preprocess_y)\n",
    "\n",
    "    # Keras's sparse_categorical_crossentropy function requires the labels to be in 3 dimensions\n",
    "    preprocess_y = preprocess_y.reshape(*preprocess_y.shape, 1)\n",
    "\n",
    "    return preprocess_x, preprocess_y, x_tk, y_tk\n",
    "\n",
    "preproc_english_sentences, preproc_french_sentences, english_tokenizer, french_tokenizer =\\\n",
    "    preprocess(english_sentences, french_sentences)\n",
    "\n",
    "print('Data Preprocessed')"
   ]
  },
  {
   "cell_type": "markdown",
   "metadata": {},
   "source": [
    "## Models\n",
    "In this section, you will experiment with various neural network architectures.\n",
    "You will begin by training four relatively simple architectures.\n",
    "- Model 1 is a simple RNN\n",
    "- Model 2 is a RNN with Embedding\n",
    "- Model 3 is a Bidirectional RNN\n",
    "- Model 4 is an optional Encoder-Decoder RNN\n",
    "\n",
    "After experimenting with the four simple architectures, you will construct a deeper architecture that is designed to outperform all four models.\n",
    "### Ids Back to Text\n",
    "The neural network will be translating the input to words ids, which isn't the final form we want.  We want the French translation.  The function `logits_to_text` will bridge the gab between the logits from the neural network to the French translation.  You'll be using this function to better understand the output of the neural network."
   ]
  },
  {
   "cell_type": "code",
   "execution_count": 60,
   "metadata": {},
   "outputs": [
    {
     "name": "stdout",
     "output_type": "stream",
     "text": [
      "`logits_to_text` function loaded.\n"
     ]
    }
   ],
   "source": [
    "def logits_to_text(logits, tokenizer):\n",
    "    \"\"\"\n",
    "    Turn logits from a neural network into text using the tokenizer\n",
    "    :param logits: Logits from a neural network\n",
    "    :param tokenizer: Keras Tokenizer fit on the labels\n",
    "    :return: String that represents the text of the logits\n",
    "    \"\"\"\n",
    "    index_to_words = {id: word for word, id in tokenizer.word_index.items()}\n",
    "    index_to_words[0] = '<PAD>'\n",
    "\n",
    "    return ' '.join([index_to_words[prediction] for prediction in np.argmax(logits, 1)])\n",
    "\n",
    "print('`logits_to_text` function loaded.')"
   ]
  },
  {
   "cell_type": "markdown",
   "metadata": {},
   "source": [
    "### Model 1: RNN (IMPLEMENTATION)\n",
    "![RNN](images/rnn.png)\n",
    "A basic RNN model is a good baseline for sequence data.  In this model, you'll build a RNN that translates English to French."
   ]
  },
  {
   "cell_type": "code",
   "execution_count": 61,
   "metadata": {
    "collapsed": true
   },
   "outputs": [],
   "source": [
    "# Reshaping the input to work with a basic RNN\n",
    "tmp_x = pad(preproc_english_sentences, preproc_french_sentences.shape[1])\n",
    "tmp_x = tmp_x.reshape((-1, preproc_french_sentences.shape[-2], 1))"
   ]
  },
  {
   "cell_type": "code",
   "execution_count": 83,
   "metadata": {},
   "outputs": [
    {
     "name": "stdout",
     "output_type": "stream",
     "text": [
      "_________________________________________________________________\n",
      "Layer (type)                 Output Shape              Param #   \n",
      "=================================================================\n",
      "lstm_14 (LSTM)               (None, 21, 21)            1932      \n",
      "_________________________________________________________________\n",
      "time_distributed_14 (TimeDis (None, 21, 346)           7612      \n",
      "=================================================================\n",
      "Total params: 9,544.0\n",
      "Trainable params: 9,544\n",
      "Non-trainable params: 0.0\n",
      "_________________________________________________________________\n",
      "None\n"
     ]
    }
   ],
   "source": [
    "from keras.layers import GRU, Input, Dense, TimeDistributed, LSTM\n",
    "from keras.models import Model, Sequential\n",
    "from keras.layers import Activation\n",
    "from keras.optimizers import Adam\n",
    "from keras.losses import sparse_categorical_crossentropy\n",
    "\n",
    "def simple_model(input_shape, output_sequence_length, english_vocab_size, french_vocab_size, learning_rate=0.1):\n",
    "    \"\"\"\n",
    "    Build and train a basic RNN on x and y\n",
    "    :param input_shape: Tuple of input shape\n",
    "    :param output_sequence_length: Length of output sequence\n",
    "    :param english_vocab_size: Number of unique English words in the dataset\n",
    "    :param french_vocab_size: Number of unique French words in the dataset\n",
    "    :return: Keras model built, but not trained\n",
    "    \"\"\"\n",
    "    # TODO: Build the layers\n",
    "    model = Sequential()\n",
    "    model.add(LSTM(output_sequence_length, input_shape=input_shape[1:], return_sequences=True))\n",
    "    model.add(TimeDistributed(Dense(french_vocab_size)))\n",
    "\n",
    "    model.compile(loss=sparse_categorical_crossentropy,\n",
    "                  optimizer=Adam(learning_rate),\n",
    "                  metrics=['accuracy'])\n",
    "    return model\n",
    "\n",
    "tests.test_simple_model(simple_model)\n",
    "\n",
    "# Train the neural network\n",
    "simple_rnn_model = simple_model(\n",
    "    tmp_x.shape,\n",
    "    preproc_french_sentences.shape[1],\n",
    "    len(english_tokenizer.word_index) + 1, # Add a code for padding\n",
    "    len(french_tokenizer.word_index) + 1,\n",
    "    learning_rate=0.05 # Lowered learning rate for better fit\n",
    ")\n",
    "\n",
    "print(simple_rnn_model.summary())\n"
   ]
  },
  {
   "cell_type": "code",
   "execution_count": 84,
   "metadata": {},
   "outputs": [
    {
     "name": "stdout",
     "output_type": "stream",
     "text": [
      "Train on 110288 samples, validate on 27573 samples\n",
      "Epoch 1/10\n",
      "110288/110288 [==============================] - 8s - loss: 5.3029 - acc: 0.4281 - val_loss: 5.7866 - val_acc: 0.4688\n",
      "Epoch 2/10\n",
      "110288/110288 [==============================] - 7s - loss: 5.4413 - acc: 0.4681 - val_loss: 5.4483 - val_acc: 0.4617\n",
      "Epoch 3/10\n",
      "110288/110288 [==============================] - 7s - loss: 5.3247 - acc: 0.4607 - val_loss: 5.1004 - val_acc: 0.4375\n",
      "Epoch 4/10\n",
      "110288/110288 [==============================] - 7s - loss: 5.2188 - acc: 0.4305 - val_loss: 5.3482 - val_acc: 0.4160\n",
      "Epoch 5/10\n",
      "110288/110288 [==============================] - 7s - loss: 5.5239 - acc: 0.4012 - val_loss: 5.4122 - val_acc: 0.4390\n",
      "Epoch 6/10\n",
      "110288/110288 [==============================] - 7s - loss: 5.2289 - acc: 0.4099 - val_loss: 5.2563 - val_acc: 0.3387\n",
      "Epoch 7/10\n",
      "110288/110288 [==============================] - 8s - loss: 5.2567 - acc: 0.3865 - val_loss: 5.1239 - val_acc: 0.3681\n",
      "Epoch 8/10\n",
      "110288/110288 [==============================] - 7s - loss: 5.0785 - acc: 0.3620 - val_loss: 4.7950 - val_acc: 0.3879\n",
      "Epoch 9/10\n",
      "110288/110288 [==============================] - 7s - loss: 4.8070 - acc: 0.3780 - val_loss: 4.7367 - val_acc: 0.4098\n",
      "Epoch 10/10\n",
      "110288/110288 [==============================] - 7s - loss: 4.8394 - acc: 0.3858 - val_loss: 4.7919 - val_acc: 0.3882\n"
     ]
    },
    {
     "data": {
      "text/plain": [
       "<keras.callbacks.History at 0x1ebf8392a58>"
      ]
     },
     "execution_count": 84,
     "metadata": {},
     "output_type": "execute_result"
    }
   ],
   "source": [
    "simple_rnn_model.fit(\n",
    "    tmp_x, \n",
    "    preproc_french_sentences, \n",
    "    batch_size=1024, epochs=10, validation_split=0.2\n",
    ")"
   ]
  },
  {
   "cell_type": "code",
   "execution_count": 131,
   "metadata": {},
   "outputs": [
    {
     "name": "stdout",
     "output_type": "stream",
     "text": [
      "ENGLISH:  that cat was my most loved animal .\n",
      "FRENCH:  leur leur leur leur leur leur leur redoutã© aimã© lion aoã»t <PAD> <PAD> <PAD> <PAD> <PAD> <PAD> <PAD> <PAD> <PAD> <PAD>\n"
     ]
    }
   ],
   "source": [
    "# Print prediction(s)\n",
    "\n",
    "def preview_sentence(sentence_index,input_x,model):\n",
    "    print('ENGLISH: ',english_sentences[sentence_index])\n",
    "    print('FRENCH: ',\n",
    "        logits_to_text(\n",
    "            model.predict(input_x[sentence_index:sentence_index+1])[0],\n",
    "            french_tokenizer\n",
    "        )\n",
    "    )\n",
    "    pass\n",
    "\n",
    "preview_sentence(13,tmp_x,simple_rnn_model)\n"
   ]
  },
  {
   "cell_type": "markdown",
   "metadata": {},
   "source": [
    "### Model 2: Embedding (IMPLEMENTATION)\n",
    "![RNN](images/embedding.png)\n",
    "You've turned the words into ids, but there's a better representation of a word.  This is called word embeddings.  An embedding is a vector representation of the word that is close to similar words in n-dimensional space, where the n represents the size of the embedding vectors.\n",
    "\n",
    "In this model, you'll create a RNN model using embedding."
   ]
  },
  {
   "cell_type": "code",
   "execution_count": 182,
   "metadata": {},
   "outputs": [
    {
     "name": "stdout",
     "output_type": "stream",
     "text": [
      "_________________________________________________________________\n",
      "Layer (type)                 Output Shape              Param #   \n",
      "=================================================================\n",
      "embedding_35 (Embedding)     (None, 21, 10)            1990      \n",
      "_________________________________________________________________\n",
      "lstm_62 (LSTM)               (None, 21, 21)            2688      \n",
      "_________________________________________________________________\n",
      "time_distributed_54 (TimeDis (None, 21, 344)           7568      \n",
      "=================================================================\n",
      "Total params: 12,246.0\n",
      "Trainable params: 12,246\n",
      "Non-trainable params: 0.0\n",
      "_________________________________________________________________\n",
      "_________________________________________________________________\n",
      "Layer (type)                 Output Shape              Param #   \n",
      "=================================================================\n",
      "embedding_36 (Embedding)     (None, 21, 10)            2000      \n",
      "_________________________________________________________________\n",
      "lstm_63 (LSTM)               (None, 21, 21)            2688      \n",
      "_________________________________________________________________\n",
      "time_distributed_55 (TimeDis (None, 21, 346)           7612      \n",
      "=================================================================\n",
      "Total params: 12,300.0\n",
      "Trainable params: 12,300\n",
      "Non-trainable params: 0.0\n",
      "_________________________________________________________________\n"
     ]
    }
   ],
   "source": [
    "from keras.layers.embeddings import Embedding\n",
    "\n",
    "\n",
    "def embed_model(input_shape, output_sequence_length, english_vocab_size, french_vocab_size):\n",
    "    \"\"\"\n",
    "    Build and train a RNN model using word embedding on x and y\n",
    "    :param input_shape: Tuple of input shape\n",
    "    :param output_sequence_length: Length of output sequence\n",
    "    :param english_vocab_size: Number of unique English words in the dataset\n",
    "    :param french_vocab_size: Number of unique French words in the dataset\n",
    "    :return: Keras model built, but not trained\n",
    "    \"\"\"\n",
    "    # TODO: Implement\n",
    "    model = Sequential()\n",
    "    model.add(Embedding(\n",
    "        input_length = input_shape[1],\n",
    "        input_dim=english_vocab_size,\n",
    "        output_dim = 10 # Random value for dense vector\n",
    "    ))\n",
    "    \n",
    "    model.add(LSTM(\n",
    "        output_sequence_length,\n",
    "        input_shape = input_shape[1:],\n",
    "        return_sequences = True           \n",
    "    ))\n",
    "    \n",
    "    model.add(TimeDistributed(Dense(french_vocab_size)))\n",
    "\n",
    "    model.summary()\n",
    "\n",
    "    model.compile(loss=sparse_categorical_crossentropy,\n",
    "              optimizer=Adam(),\n",
    "              metrics=['accuracy'])\n",
    "\n",
    "    return model\n",
    "\n",
    "tests.test_embed_model(embed_model)\n",
    "\n",
    "# TODO: Reshape the input\n",
    "max_length = max(preproc_english_sentences.shape[1],preproc_french_sentences.shape[1])\n",
    "padded_x = pad(preproc_english_sentences, max_length)\n",
    "\n",
    "embed_rnn = embed_model(\n",
    "    padded_x.shape,\n",
    "    preproc_french_sentences.shape[1],\n",
    "    len(english_tokenizer.word_index) + 1,\n",
    "    len(french_tokenizer.word_index) + 1\n",
    ")"
   ]
  },
  {
   "cell_type": "code",
   "execution_count": 135,
   "metadata": {},
   "outputs": [
    {
     "name": "stdout",
     "output_type": "stream",
     "text": [
      "Train on 110288 samples, validate on 27573 samples\n",
      "Epoch 1/10\n",
      "110288/110288 [==============================] - 3s - loss: 1.7909 - acc: 0.5956 - val_loss: 1.6991 - val_acc: 0.6081\n",
      "Epoch 2/10\n",
      "110288/110288 [==============================] - 4s - loss: 1.7526 - acc: 0.6020 - val_loss: 1.8104 - val_acc: 0.5988\n",
      "Epoch 3/10\n",
      "110288/110288 [==============================] - 4s - loss: 1.8042 - acc: 0.5898 - val_loss: 1.8109 - val_acc: 0.5806\n",
      "Epoch 4/10\n",
      "110288/110288 [==============================] - 4s - loss: 1.7400 - acc: 0.6032 - val_loss: 1.7048 - val_acc: 0.6166\n",
      "Epoch 5/10\n",
      "110288/110288 [==============================] - 4s - loss: 1.7494 - acc: 0.6035 - val_loss: 1.6923 - val_acc: 0.6106\n",
      "Epoch 6/10\n",
      "110288/110288 [==============================] - 4s - loss: 1.6901 - acc: 0.6114 - val_loss: 1.6561 - val_acc: 0.6160\n",
      "Epoch 7/10\n",
      "110288/110288 [==============================] - 4s - loss: 1.6526 - acc: 0.6188 - val_loss: 1.6292 - val_acc: 0.6209\n",
      "Epoch 8/10\n",
      "110288/110288 [==============================] - 4s - loss: 1.7268 - acc: 0.5939 - val_loss: 1.6645 - val_acc: 0.6103\n",
      "Epoch 9/10\n",
      "110288/110288 [==============================] - 4s - loss: 1.6708 - acc: 0.6063 - val_loss: 1.6419 - val_acc: 0.6101\n",
      "Epoch 10/10\n",
      "110288/110288 [==============================] - 4s - loss: 1.6337 - acc: 0.6154 - val_loss: 1.6063 - val_acc: 0.6186\n"
     ]
    },
    {
     "data": {
      "text/plain": [
       "<keras.callbacks.History at 0x1ec16ef9518>"
      ]
     },
     "execution_count": 135,
     "metadata": {},
     "output_type": "execute_result"
    }
   ],
   "source": [
    "# TODO: Train the neural network\n",
    "embed_rnn.fit(padded_x,preproc_french_sentences, batch_size=4096, epochs=10, validation_split=0.2)\n"
   ]
  },
  {
   "cell_type": "code",
   "execution_count": 134,
   "metadata": {},
   "outputs": [
    {
     "name": "stdout",
     "output_type": "stream",
     "text": [
      "ENGLISH:  his favorite fruit is the orange , but my favorite is the grape .\n",
      "FRENCH:  son fruit est est la est mais aimã© prã©fã©rã© est la le <PAD> <PAD> <PAD> <PAD> <PAD> <PAD> <PAD> <PAD> <PAD>\n"
     ]
    }
   ],
   "source": [
    "# TODO: Print prediction(s)\n",
    "preview_sentence(5,padded_x,embed_rnn)"
   ]
  },
  {
   "cell_type": "markdown",
   "metadata": {},
   "source": [
    "### Model 3: Bidirectional RNNs (IMPLEMENTATION)\n",
    "![RNN](images/bidirectional.png)\n",
    "One restriction of a RNN is that it can't see the future input, only the past.  This is where bidirectional recurrent neural networks come in.  They are able to see the future data."
   ]
  },
  {
   "cell_type": "code",
   "execution_count": 176,
   "metadata": {},
   "outputs": [
    {
     "name": "stdout",
     "output_type": "stream",
     "text": [
      "_________________________________________________________________\n",
      "Layer (type)                 Output Shape              Param #   \n",
      "=================================================================\n",
      "bidirectional_20 (Bidirectio (None, 21, 21)            3864      \n",
      "_________________________________________________________________\n",
      "time_distributed_48 (TimeDis (None, 21, 344)           7568      \n",
      "=================================================================\n",
      "Total params: 11,432.0\n",
      "Trainable params: 11,432\n",
      "Non-trainable params: 0.0\n",
      "_________________________________________________________________\n"
     ]
    }
   ],
   "source": [
    "from keras.layers import Bidirectional\n",
    "\n",
    "\n",
    "def bd_model(input_shape, output_sequence_length, english_vocab_size, french_vocab_size):\n",
    "    \"\"\"\n",
    "    Build and train a bidirectional RNN model on x and y\n",
    "    :param input_shape: Tuple of input shape\n",
    "    :param output_sequence_length: Length of output sequence\n",
    "    :param english_vocab_size: Number of unique English words in the dataset\n",
    "    :param french_vocab_size: Number of unique French words in the dataset\n",
    "    :return: Keras model built, but not trained\n",
    "    \"\"\"\n",
    "    model = Sequential()\n",
    "    model.add(\n",
    "        Bidirectional(\n",
    "            LSTM(\n",
    "                output_sequence_length,\n",
    "                return_sequences=True\n",
    "            ),\n",
    "            input_shape=input_shape[1:],\n",
    "            merge_mode='sum'\n",
    "        )\n",
    "    )\n",
    "\n",
    "    model.add(TimeDistributed(Dense(french_vocab_size)))\n",
    "\n",
    "    model.compile(loss=sparse_categorical_crossentropy,\n",
    "                  optimizer=Adam(),\n",
    "                  metrics=['accuracy'])\n",
    "\n",
    "    model.summary()\n",
    "\n",
    "    return model\n",
    "\n",
    "tests.test_bd_model(bd_model)\n",
    "\n"
   ]
  },
  {
   "cell_type": "code",
   "execution_count": 162,
   "metadata": {},
   "outputs": [
    {
     "name": "stdout",
     "output_type": "stream",
     "text": [
      "_________________________________________________________________\n",
      "Layer (type)                 Output Shape              Param #   \n",
      "=================================================================\n",
      "bidirectional_16 (Bidirectio (None, 21, 21)            3864      \n",
      "_________________________________________________________________\n",
      "time_distributed_46 (TimeDis (None, 21, 346)           7612      \n",
      "=================================================================\n",
      "Total params: 11,476.0\n",
      "Trainable params: 11,476\n",
      "Non-trainable params: 0.0\n",
      "_________________________________________________________________\n"
     ]
    }
   ],
   "source": [
    "\n",
    "bd_rnn = bd_model(\n",
    "    tmp_x.shape,\n",
    "    preproc_french_sentences.shape[1],\n",
    "    len(english_tokenizer.word_index) + 1,\n",
    "    len(french_tokenizer.word_index) + 1\n",
    ")\n"
   ]
  },
  {
   "cell_type": "code",
   "execution_count": 171,
   "metadata": {},
   "outputs": [
    {
     "name": "stdout",
     "output_type": "stream",
     "text": [
      "Train on 110288 samples, validate on 27573 samples\n",
      "Epoch 1/10\n",
      "110288/110288 [==============================] - 15s - loss: 3.5667 - acc: 0.4445 - val_loss: 3.5406 - val_acc: 0.4444\n",
      "Epoch 2/10\n",
      "110288/110288 [==============================] - 14s - loss: 3.5480 - acc: 0.4457 - val_loss: 3.5411 - val_acc: 0.4443\n",
      "Epoch 3/10\n",
      "110288/110288 [==============================] - 14s - loss: 3.5450 - acc: 0.4462 - val_loss: 3.5324 - val_acc: 0.4521\n",
      "Epoch 4/10\n",
      "110288/110288 [==============================] - 14s - loss: 3.5505 - acc: 0.4491 - val_loss: 3.5241 - val_acc: 0.4438\n",
      "Epoch 5/10\n",
      "110288/110288 [==============================] - 14s - loss: 3.5730 - acc: 0.4426 - val_loss: 3.5871 - val_acc: 0.4478\n",
      "Epoch 6/10\n",
      "110288/110288 [==============================] - 14s - loss: 3.5691 - acc: 0.4465 - val_loss: 3.5309 - val_acc: 0.4535\n",
      "Epoch 7/10\n",
      "110288/110288 [==============================] - 14s - loss: 3.5394 - acc: 0.4434 - val_loss: 3.5173 - val_acc: 0.4487\n",
      "Epoch 8/10\n",
      "110288/110288 [==============================] - 14s - loss: 3.6048 - acc: 0.4469 - val_loss: 3.5407 - val_acc: 0.4381\n",
      "Epoch 9/10\n",
      "110288/110288 [==============================] - 14s - loss: 3.5514 - acc: 0.4349 - val_loss: 3.5339 - val_acc: 0.4359\n",
      "Epoch 10/10\n",
      "110288/110288 [==============================] - 14s - loss: 3.5346 - acc: 0.4347 - val_loss: 3.5246 - val_acc: 0.4359\n"
     ]
    },
    {
     "data": {
      "text/plain": [
       "<keras.callbacks.History at 0x1ec2d05fbe0>"
      ]
     },
     "execution_count": 171,
     "metadata": {},
     "output_type": "execute_result"
    }
   ],
   "source": [
    "# TODO: Train and Print prediction(s)\n",
    "bd_rnn.fit(tmp_x, preproc_french_sentences, batch_size=4096, epochs=10, validation_split=0.2)"
   ]
  },
  {
   "cell_type": "code",
   "execution_count": 172,
   "metadata": {},
   "outputs": [
    {
     "name": "stdout",
     "output_type": "stream",
     "text": [
      "ENGLISH:  the united states is sometimes mild during june , and it is cold in september .\n",
      "FRENCH:  gã©nã©ralement lapin lapin est parfois lapin trop cours trop neigeux gã¨le favori veut favori <PAD> <PAD> <PAD> <PAD> <PAD> <PAD> <PAD>\n"
     ]
    }
   ],
   "source": [
    "preview_sentence(3,tmp_x,bd_rnn)"
   ]
  },
  {
   "cell_type": "markdown",
   "metadata": {},
   "source": [
    "### Model 4: Encoder-Decoder (OPTIONAL)\n",
    "Time to look at encoder-decoder models.  This model is made up of an encoder and decoder. The encoder creates a matrix representation of the sentence.  The decoder takes this matrix as input and predicts the translation as output.\n",
    "\n",
    "Create an encoder-decoder model in the cell below."
   ]
  },
  {
   "cell_type": "code",
   "execution_count": null,
   "metadata": {
    "collapsed": true
   },
   "outputs": [],
   "source": [
    "from keras.layers import RepeatVector\n",
    "\n",
    "\n",
    "def encdec_model(input_shape, output_sequence_length, english_vocab_size, french_vocab_size):\n",
    "    \"\"\"\n",
    "    Build and train an encoder-decoder model on x and y\n",
    "    :param input_shape: Tuple of input shape\n",
    "    :param output_sequence_length: Length of output sequence\n",
    "    :param english_vocab_size: Number of unique English words in the dataset\n",
    "    :param french_vocab_size: Number of unique French words in the dataset\n",
    "    :return: Keras model built, but not trained\n",
    "    \"\"\"\n",
    "    # OPTIONAL: Implement\n",
    "    return None\n",
    "tests.test_encdec_model(encdec_model)\n",
    "\n",
    "\n",
    "# OPTIONAL: Train and Print prediction(s)"
   ]
  },
  {
   "cell_type": "markdown",
   "metadata": {},
   "source": [
    "### Model 5: Custom (IMPLEMENTATION)\n",
    "Use everything you learned from the previous models to create a model that incorporates embedding and a bidirectional rnn into one model."
   ]
  },
  {
   "cell_type": "code",
   "execution_count": 235,
   "metadata": {},
   "outputs": [
    {
     "name": "stdout",
     "output_type": "stream",
     "text": [
      "_________________________________________________________________\n",
      "Layer (type)                 Output Shape              Param #   \n",
      "=================================================================\n",
      "embedding_69 (Embedding)     (None, 15, 10)            1990      \n",
      "_________________________________________________________________\n",
      "bidirectional_58 (Bidirectio (None, 15, 21)            4032      \n",
      "_________________________________________________________________\n",
      "time_distributed_87 (TimeDis (None, 15, 344)           7568      \n",
      "=================================================================\n",
      "Total params: 13,590.0\n",
      "Trainable params: 13,590\n",
      "Non-trainable params: 0.0\n",
      "_________________________________________________________________\n"
     ]
    },
    {
     "ename": "AssertionError",
     "evalue": "Wrong output shape. Found output shape (None, 15, 344) using parameters output_sequence_length=21 and french_vocab_size=344",
     "output_type": "error",
     "traceback": [
      "\u001b[1;31m---------------------------------------------------------------------------\u001b[0m",
      "\u001b[1;31mAssertionError\u001b[0m                            Traceback (most recent call last)",
      "\u001b[1;32m<ipython-input-235-3e06559fcc82>\u001b[0m in \u001b[0;36m<module>\u001b[1;34m()\u001b[0m\n\u001b[0;32m     38\u001b[0m     \u001b[1;32mreturn\u001b[0m \u001b[0mmodel\u001b[0m\u001b[1;33m\u001b[0m\u001b[0m\n\u001b[0;32m     39\u001b[0m \u001b[1;33m\u001b[0m\u001b[0m\n\u001b[1;32m---> 40\u001b[1;33m \u001b[0mtests\u001b[0m\u001b[1;33m.\u001b[0m\u001b[0mtest_model_final\u001b[0m\u001b[1;33m(\u001b[0m\u001b[0mmodel_final\u001b[0m\u001b[1;33m)\u001b[0m\u001b[1;33m\u001b[0m\u001b[0m\n\u001b[0m\u001b[0;32m     41\u001b[0m \u001b[1;33m\u001b[0m\u001b[0m\n\u001b[0;32m     42\u001b[0m \u001b[1;33m\u001b[0m\u001b[0m\n",
      "\u001b[1;32m~\\Projects\\udacity\\aind2-nlp-capstone\\project_tests.py\u001b[0m in \u001b[0;36mtest_model_final\u001b[1;34m(model_final)\u001b[0m\n\u001b[0;32m    101\u001b[0m \u001b[1;33m\u001b[0m\u001b[0m\n\u001b[0;32m    102\u001b[0m     \u001b[0mmodel\u001b[0m \u001b[1;33m=\u001b[0m \u001b[0mmodel_final\u001b[0m\u001b[1;33m(\u001b[0m\u001b[0minput_shape\u001b[0m\u001b[1;33m,\u001b[0m \u001b[0moutput_sequence_length\u001b[0m\u001b[1;33m,\u001b[0m \u001b[0menglish_vocab_size\u001b[0m\u001b[1;33m,\u001b[0m \u001b[0mfrench_vocab_size\u001b[0m\u001b[1;33m)\u001b[0m\u001b[1;33m\u001b[0m\u001b[0m\n\u001b[1;32m--> 103\u001b[1;33m     \u001b[0m_test_model\u001b[0m\u001b[1;33m(\u001b[0m\u001b[0mmodel\u001b[0m\u001b[1;33m,\u001b[0m \u001b[0minput_shape\u001b[0m\u001b[1;33m,\u001b[0m \u001b[0moutput_sequence_length\u001b[0m\u001b[1;33m,\u001b[0m \u001b[0mfrench_vocab_size\u001b[0m\u001b[1;33m)\u001b[0m\u001b[1;33m\u001b[0m\u001b[0m\n\u001b[0m",
      "\u001b[1;32m~\\Projects\\udacity\\aind2-nlp-capstone\\project_tests.py\u001b[0m in \u001b[0;36m_test_model\u001b[1;34m(model, input_shape, output_sequence_length, french_vocab_size)\u001b[0m\n\u001b[0;32m     15\u001b[0m     \u001b[1;32massert\u001b[0m \u001b[0mmodel\u001b[0m\u001b[1;33m.\u001b[0m\u001b[0moutput_shape\u001b[0m \u001b[1;33m==\u001b[0m \u001b[1;33m(\u001b[0m\u001b[1;32mNone\u001b[0m\u001b[1;33m,\u001b[0m \u001b[0moutput_sequence_length\u001b[0m\u001b[1;33m,\u001b[0m \u001b[0mfrench_vocab_size\u001b[0m\u001b[1;33m)\u001b[0m\u001b[1;33m,\u001b[0m\u001b[0;31m\\\u001b[0m\u001b[1;33m\u001b[0m\u001b[0m\n\u001b[0;32m     16\u001b[0m         \u001b[1;34m'Wrong output shape. Found output shape {} using parameters output_sequence_length={} and french_vocab_size={}'\u001b[0m\u001b[0;31m\\\u001b[0m\u001b[1;33m\u001b[0m\u001b[0m\n\u001b[1;32m---> 17\u001b[1;33m             \u001b[1;33m.\u001b[0m\u001b[0mformat\u001b[0m\u001b[1;33m(\u001b[0m\u001b[0mmodel\u001b[0m\u001b[1;33m.\u001b[0m\u001b[0moutput_shape\u001b[0m\u001b[1;33m,\u001b[0m \u001b[0moutput_sequence_length\u001b[0m\u001b[1;33m,\u001b[0m \u001b[0mfrench_vocab_size\u001b[0m\u001b[1;33m)\u001b[0m\u001b[1;33m\u001b[0m\u001b[0m\n\u001b[0m\u001b[0;32m     18\u001b[0m \u001b[1;33m\u001b[0m\u001b[0m\n\u001b[0;32m     19\u001b[0m     \u001b[1;32massert\u001b[0m \u001b[0mlen\u001b[0m\u001b[1;33m(\u001b[0m\u001b[0mmodel\u001b[0m\u001b[1;33m.\u001b[0m\u001b[0mloss_functions\u001b[0m\u001b[1;33m)\u001b[0m \u001b[1;33m>\u001b[0m \u001b[1;36m0\u001b[0m\u001b[1;33m,\u001b[0m\u001b[0;31m\\\u001b[0m\u001b[1;33m\u001b[0m\u001b[0m\n",
      "\u001b[1;31mAssertionError\u001b[0m: Wrong output shape. Found output shape (None, 15, 344) using parameters output_sequence_length=21 and french_vocab_size=344"
     ]
    }
   ],
   "source": [
    "import project_tests as tests\n",
    "\n",
    "def model_final(input_shape, output_sequence_length, english_vocab_size, french_vocab_size):\n",
    "    \"\"\"\n",
    "    Build and train a model that incorporates embedding, encoder-decoder, and bidirectional RNN on x and y\n",
    "    :param input_shape: Tuple of input shape\n",
    "    :param output_sequence_length: Length of output sequence\n",
    "    :param english_vocab_size: Number of unique English words in the dataset\n",
    "    :param french_vocab_size: Number of unique French words in the dataset\n",
    "    :return: Keras model built, but not trained\n",
    "    \"\"\"\n",
    "    model = Sequential()\n",
    "\n",
    "    model.add(Embedding(\n",
    "        input_length = input_shape[1],\n",
    "        input_dim=english_vocab_size,\n",
    "        output_dim = 10 # Random value for dense vector\n",
    "    ))\n",
    "\n",
    "    model.add(\n",
    "        Bidirectional(\n",
    "            GRU(\n",
    "                output_sequence_length,\n",
    "                return_sequences=True\n",
    "            ),\n",
    "            merge_mode='sum'\n",
    "        )\n",
    "    )\n",
    "\n",
    "    model.add(TimeDistributed(Dense(french_vocab_size)))\n",
    "\n",
    "    model.compile(loss=sparse_categorical_crossentropy,\n",
    "                  optimizer=Adam(),\n",
    "                  metrics=['accuracy'])\n",
    "\n",
    "    model.summary()\n",
    "\n",
    "    return model\n",
    "\n",
    "tests.test_model_final(model_final)\n",
    "\n",
    "\n",
    "print('Final Model Loaded')"
   ]
  },
  {
   "cell_type": "code",
   "execution_count": 236,
   "metadata": {},
   "outputs": [
    {
     "name": "stdout",
     "output_type": "stream",
     "text": [
      "_________________________________________________________________\n",
      "Layer (type)                 Output Shape              Param #   \n",
      "=================================================================\n",
      "embedding_70 (Embedding)     (None, 21, 10)            2000      \n",
      "_________________________________________________________________\n",
      "bidirectional_59 (Bidirectio (None, 21, 21)            4032      \n",
      "_________________________________________________________________\n",
      "time_distributed_88 (TimeDis (None, 21, 346)           7612      \n",
      "=================================================================\n",
      "Total params: 13,644.0\n",
      "Trainable params: 13,644\n",
      "Non-trainable params: 0.0\n",
      "_________________________________________________________________\n"
     ]
    }
   ],
   "source": [
    "final_rnn = model_final(\n",
    "    padded_x.shape,\n",
    "    preproc_french_sentences.shape[1],\n",
    "    len(english_tokenizer.word_index) + 1,\n",
    "    len(french_tokenizer.word_index) + 1\n",
    ")"
   ]
  },
  {
   "cell_type": "code",
   "execution_count": 237,
   "metadata": {},
   "outputs": [
    {
     "name": "stdout",
     "output_type": "stream",
     "text": [
      "Train on 110288 samples, validate on 27573 samples\n",
      "Epoch 1/10\n",
      "110288/110288 [==============================] - 10s - loss: 4.8218 - acc: 0.3301 - val_loss: 3.8856 - val_acc: 0.4097\n",
      "Epoch 2/10\n",
      "110288/110288 [==============================] - 5s - loss: 3.4780 - acc: 0.4082 - val_loss: 3.0603 - val_acc: 0.4093\n",
      "Epoch 3/10\n",
      "110288/110288 [==============================] - 5s - loss: 2.8888 - acc: 0.4082 - val_loss: 2.7555 - val_acc: 0.4093\n",
      "Epoch 4/10\n",
      "110288/110288 [==============================] - 5s - loss: 2.6786 - acc: 0.4123 - val_loss: 2.5914 - val_acc: 0.4222\n",
      "Epoch 5/10\n",
      "110288/110288 [==============================] - 5s - loss: 2.5112 - acc: 0.4342 - val_loss: 2.4005 - val_acc: 0.4564\n",
      "Epoch 6/10\n",
      "110288/110288 [==============================] - 5s - loss: 2.3381 - acc: 0.4800 - val_loss: 2.2539 - val_acc: 0.5076\n",
      "Epoch 7/10\n",
      "110288/110288 [==============================] - 5s - loss: 2.1663 - acc: 0.5336 - val_loss: 2.0731 - val_acc: 0.5555\n",
      "Epoch 8/10\n",
      "110288/110288 [==============================] - 5s - loss: 1.9780 - acc: 0.5719 - val_loss: 1.8918 - val_acc: 0.5814\n",
      "Epoch 9/10\n",
      "110288/110288 [==============================] - 5s - loss: 1.8334 - acc: 0.5888 - val_loss: 1.7556 - val_acc: 0.5978\n",
      "Epoch 10/10\n",
      "110288/110288 [==============================] - 5s - loss: 1.7507 - acc: 0.6008 - val_loss: 1.7399 - val_acc: 0.6032\n"
     ]
    },
    {
     "data": {
      "text/plain": [
       "<keras.callbacks.History at 0x1ec6124a320>"
      ]
     },
     "execution_count": 237,
     "metadata": {},
     "output_type": "execute_result"
    }
   ],
   "source": [
    "final_rnn.fit(padded_x, preproc_french_sentences, batch_size=4096, epochs=10, validation_split=0.2)"
   ]
  },
  {
   "cell_type": "code",
   "execution_count": 238,
   "metadata": {},
   "outputs": [
    {
     "name": "stdout",
     "output_type": "stream",
     "text": [
      "ENGLISH:  the united states is sometimes mild during june , and it is cold in september .\n",
      "FRENCH:  les ã©tats votre est est est parfois en et et est est est en en en <PAD> <PAD> <PAD> <PAD> <PAD>\n"
     ]
    }
   ],
   "source": [
    "preview_sentence(3,padded_x,final_rnn)"
   ]
  },
  {
   "cell_type": "markdown",
   "metadata": {},
   "source": [
    "## Prediction (IMPLEMENTATION)"
   ]
  },
  {
   "cell_type": "code",
   "execution_count": null,
   "metadata": {
    "scrolled": true
   },
   "outputs": [
    {
     "name": "stdout",
     "output_type": "stream",
     "text": [
      "_________________________________________________________________\n",
      "Layer (type)                 Output Shape              Param #   \n",
      "=================================================================\n",
      "embedding_79 (Embedding)     (None, 21, 10)            2000      \n",
      "_________________________________________________________________\n",
      "bidirectional_68 (Bidirectio (None, 21, 21)            4032      \n",
      "_________________________________________________________________\n",
      "time_distributed_97 (TimeDis (None, 21, 346)           7612      \n",
      "=================================================================\n",
      "Total params: 13,644.0\n",
      "Trainable params: 13,644\n",
      "Non-trainable params: 0.0\n",
      "_________________________________________________________________\n",
      "Train on 110288 samples, validate on 27573 samples\n",
      "Epoch 1/1000\n",
      "106496/110288 [===========================>..] - ETA: 0s - loss: 1.3592 - acc: 0.6753Epoch 00000: val_loss improved from inf to 1.33580, saving model to weights.model_final5.hdf5\n",
      "110288/110288 [==============================] - 12s - loss: 1.3583 - acc: 0.6754 - val_loss: 1.3358 - val_acc: 0.6807\n",
      "Epoch 2/1000\n",
      "106496/110288 [===========================>..] - ETA: 0s - loss: 1.3256 - acc: 0.6794Epoch 00001: val_loss improved from 1.33580 to 1.32992, saving model to weights.model_final5.hdf5\n",
      "110288/110288 [==============================] - 5s - loss: 1.3254 - acc: 0.6794 - val_loss: 1.3299 - val_acc: 0.6790\n",
      "Epoch 3/1000\n",
      "106496/110288 [===========================>..] - ETA: 0s - loss: 1.3223 - acc: 0.6785Epoch 00002: val_loss did not improve\n",
      "110288/110288 [==============================] - 5s - loss: 1.3227 - acc: 0.6784 - val_loss: 1.3473 - val_acc: 0.6779\n",
      "Epoch 4/1000\n",
      "106496/110288 [===========================>..] - ETA: 0s - loss: 1.3418 - acc: 0.6773Epoch 00003: val_loss improved from 1.32992 to 1.32260, saving model to weights.model_final5.hdf5\n",
      "110288/110288 [==============================] - 6s - loss: 1.3410 - acc: 0.6774 - val_loss: 1.3226 - val_acc: 0.6805\n",
      "Epoch 5/1000\n",
      "106496/110288 [===========================>..] - ETA: 0s - loss: 1.3154 - acc: 0.6806Epoch 00004: val_loss improved from 1.32260 to 1.31412, saving model to weights.model_final5.hdf5\n",
      "110288/110288 [==============================] - 5s - loss: 1.3153 - acc: 0.6806 - val_loss: 1.3141 - val_acc: 0.6803\n",
      "Epoch 6/1000\n",
      "106496/110288 [===========================>..] - ETA: 0s - loss: 1.3291 - acc: 0.6796Epoch 00005: val_loss did not improve\n",
      "110288/110288 [==============================] - 5s - loss: 1.3297 - acc: 0.6796 - val_loss: 1.3194 - val_acc: 0.6833\n",
      "Epoch 7/1000\n",
      "106496/110288 [===========================>..] - ETA: 0s - loss: 1.3103 - acc: 0.6814Epoch 00006: val_loss did not improve\n",
      "110288/110288 [==============================] - 5s - loss: 1.3110 - acc: 0.6814 - val_loss: 1.3207 - val_acc: 0.6813\n",
      "Epoch 8/1000\n",
      "106496/110288 [===========================>..] - ETA: 0s - loss: 1.3182 - acc: 0.6816Epoch 00007: val_loss improved from 1.31412 to 1.30179, saving model to weights.model_final5.hdf5\n",
      "110288/110288 [==============================] - 5s - loss: 1.3173 - acc: 0.6818 - val_loss: 1.3018 - val_acc: 0.6841\n",
      "Epoch 9/1000\n",
      "106496/110288 [===========================>..] - ETA: 0s - loss: 1.3067 - acc: 0.6831Epoch 00008: val_loss did not improve\n",
      "110288/110288 [==============================] - 5s - loss: 1.3087 - acc: 0.6828 - val_loss: 1.3333 - val_acc: 0.6783\n",
      "Epoch 10/1000\n",
      "106496/110288 [===========================>..] - ETA: 0s - loss: 1.3508 - acc: 0.6816Epoch 00009: val_loss did not improve\n",
      "110288/110288 [==============================] - 5s - loss: 1.3543 - acc: 0.6811 - val_loss: 1.4639 - val_acc: 0.6579\n",
      "Epoch 11/1000\n",
      "106496/110288 [===========================>..] - ETA: 0s - loss: 1.4383 - acc: 0.6702Epoch 00010: val_loss did not improve\n",
      "110288/110288 [==============================] - 5s - loss: 1.4353 - acc: 0.6703 - val_loss: 1.3581 - val_acc: 0.6765\n",
      "Epoch 12/1000\n",
      "106496/110288 [===========================>..] - ETA: 0s - loss: 1.3391 - acc: 0.6781Epoch 00011: val_loss did not improve\n",
      "110288/110288 [==============================] - 5s - loss: 1.3389 - acc: 0.6781 - val_loss: 1.3445 - val_acc: 0.6813\n",
      "Epoch 13/1000\n",
      "106496/110288 [===========================>..] - ETA: 0s - loss: 1.3529 - acc: 0.6801Epoch 00012: val_loss did not improve\n",
      "110288/110288 [==============================] - 5s - loss: 1.3518 - acc: 0.6801 - val_loss: 1.3315 - val_acc: 0.6826\n",
      "Epoch 14/1000\n",
      "106496/110288 [===========================>..] - ETA: 0s - loss: 1.3440 - acc: 0.6805Epoch 00013: val_loss did not improve\n",
      "110288/110288 [==============================] - 5s - loss: 1.3447 - acc: 0.6803 - val_loss: 1.3601 - val_acc: 0.6739\n",
      "Epoch 15/1000\n",
      "106496/110288 [===========================>..] - ETA: 0s - loss: 1.3182 - acc: 0.6811Epoch 00014: val_loss did not improve\n",
      "110288/110288 [==============================] - 5s - loss: 1.3178 - acc: 0.6812 - val_loss: 1.3202 - val_acc: 0.6824\n",
      "Epoch 16/1000\n",
      "106496/110288 [===========================>..] - ETA: 0s - loss: 1.2980 - acc: 0.6835Epoch 00015: val_loss did not improve\n",
      "110288/110288 [==============================] - 5s - loss: 1.2982 - acc: 0.6836 - val_loss: 1.3086 - val_acc: 0.6856\n",
      "Epoch 17/1000\n",
      "106496/110288 [===========================>..] - ETA: 0s - loss: 1.3015 - acc: 0.6813Epoch 00016: val_loss did not improve\n",
      "110288/110288 [==============================] - 5s - loss: 1.3014 - acc: 0.6813 - val_loss: 1.3022 - val_acc: 0.6787\n",
      "Epoch 18/1000\n",
      "106496/110288 [===========================>..] - ETA: 0s - loss: 1.2967 - acc: 0.6824Epoch 00017: val_loss did not improve\n",
      "110288/110288 [==============================] - 6s - loss: 1.2995 - acc: 0.6821 - val_loss: 1.3749 - val_acc: 0.6718\n",
      "Epoch 19/1000\n",
      "106496/110288 [===========================>..] - ETA: 0s - loss: 1.3264 - acc: 0.6764Epoch 00018: val_loss did not improve\n",
      "110288/110288 [==============================] - 5s - loss: 1.3257 - acc: 0.6765 - val_loss: 1.3116 - val_acc: 0.6777\n",
      "Epoch 20/1000\n",
      "106496/110288 [===========================>..] - ETA: 0s - loss: 1.3217 - acc: 0.6776Epoch 00019: val_loss did not improve\n",
      "110288/110288 [==============================] - 5s - loss: 1.3221 - acc: 0.6776 - val_loss: 1.3393 - val_acc: 0.6802\n",
      "Epoch 21/1000\n",
      "106496/110288 [===========================>..] - ETA: 0s - loss: 1.3296 - acc: 0.6773Epoch 00020: val_loss did not improve\n",
      "110288/110288 [==============================] - 5s - loss: 1.3290 - acc: 0.6775 - val_loss: 1.3062 - val_acc: 0.6834\n",
      "Epoch 22/1000\n",
      "106496/110288 [===========================>..] - ETA: 0s - loss: 1.3162 - acc: 0.6777Epoch 00021: val_loss improved from 1.30179 to 1.29950, saving model to weights.model_final5.hdf5\n",
      "110288/110288 [==============================] - 5s - loss: 1.3156 - acc: 0.6778 - val_loss: 1.2995 - val_acc: 0.6814\n",
      "Epoch 23/1000\n",
      "106496/110288 [===========================>..] - ETA: 0s - loss: 1.2870 - acc: 0.6825Epoch 00022: val_loss improved from 1.29950 to 1.29072, saving model to weights.model_final5.hdf5\n",
      "110288/110288 [==============================] - 5s - loss: 1.2872 - acc: 0.6824 - val_loss: 1.2907 - val_acc: 0.6840\n",
      "Epoch 24/1000\n",
      "106496/110288 [===========================>..] - ETA: 0s - loss: 1.3504 - acc: 0.6704Epoch 00023: val_loss did not improve\n",
      "110288/110288 [==============================] - 5s - loss: 1.3498 - acc: 0.6705 - val_loss: 1.3371 - val_acc: 0.6759\n",
      "Epoch 25/1000\n",
      "106496/110288 [===========================>..] - ETA: 0s - loss: 1.3057 - acc: 0.6782Epoch 00024: val_loss did not improve\n",
      "110288/110288 [==============================] - 5s - loss: 1.3055 - acc: 0.6783 - val_loss: 1.2946 - val_acc: 0.6856\n",
      "Epoch 26/1000\n",
      "106496/110288 [===========================>..] - ETA: 0s - loss: 1.3343 - acc: 0.6773Epoch 00025: val_loss did not improve\n",
      "110288/110288 [==============================] - 5s - loss: 1.3331 - acc: 0.6774 - val_loss: 1.3012 - val_acc: 0.6839\n",
      "Epoch 27/1000\n",
      "106496/110288 [===========================>..] - ETA: 0s - loss: 1.3090 - acc: 0.6795Epoch 00026: val_loss did not improve\n",
      "110288/110288 [==============================] - 5s - loss: 1.3090 - acc: 0.6794 - val_loss: 1.3051 - val_acc: 0.6759\n",
      "Epoch 28/1000\n",
      "106496/110288 [===========================>..] - ETA: 0s - loss: 1.3126 - acc: 0.6783Epoch 00027: val_loss did not improve\n",
      "110288/110288 [==============================] - 5s - loss: 1.3126 - acc: 0.6784 - val_loss: 1.3158 - val_acc: 0.6814"
     ]
    }
   ],
   "source": [
    "import numpy as np\n",
    "import os.path\n",
    "from keras.callbacks import ModelCheckpoint, EarlyStopping\n",
    "from keras.preprocessing.sequence import pad_sequences\n",
    "\n",
    "def final_predictions(x, y, x_tk, y_tk):\n",
    "    \"\"\"\n",
    "    Gets predictions using the final model\n",
    "    :param x: Preprocessed English data\n",
    "    :param y: Preprocessed French data\n",
    "    :param x_tk: English tokenizer\n",
    "    :param y_tk: French tokenizer\n",
    "    \"\"\"\n",
    "    # TODO: Train neural network using model_final\n",
    "    output_length = max(x.shape[1],y.shape[1])\n",
    "    x = pad(x,output_length)\n",
    "    y = pad(y,output_length)\n",
    "    model = model_final(\n",
    "        padded_x.shape,\n",
    "        output_length,\n",
    "        len(english_tokenizer.word_index) + 1,\n",
    "        len(french_tokenizer.word_index) + 1\n",
    "    )\n",
    "    \n",
    "    weight_path = 'weights.model_final5.hdf5'\n",
    "    checkpointer = ModelCheckpoint(\n",
    "        filepath=weight_path,\n",
    "        verbose=1, save_best_only=True\n",
    "    )\n",
    "    earlystopper = EarlyStopping(min_delta=0.001,patience=100,verbose=1)\n",
    "    \n",
    "    if os.path.isfile(weight_path):\n",
    "        model.load_weights(weight_path)\n",
    "\n",
    "    model.fit(\n",
    "        x,y,\n",
    "        batch_size=4096,\n",
    "        epochs=1000,\n",
    "        validation_split=0.2,\n",
    "        callbacks=[checkpointer, earlystopper]\n",
    "    )\n",
    "\n",
    "    ## DON'T EDIT ANYTHING BELOW THIS LINE\n",
    "    y_id_to_word = {value: key for key, value in y_tk.word_index.items()}\n",
    "    y_id_to_word[0] = '<PAD>'\n",
    "\n",
    "    sentence = 'he saw a old yellow truck'\n",
    "    sentence = [x_tk.word_index[word] for word in sentence.split()]\n",
    "    sentence = pad_sequences([sentence], maxlen=x.shape[-1], padding='post')\n",
    "    sentences = np.array([sentence[0], x[0]])\n",
    "    predictions = model.predict(sentences, len(sentences))\n",
    "\n",
    "    print('Sample 1:')\n",
    "    print(' '.join([y_id_to_word[np.argmax(x)] for x in predictions[0]]))\n",
    "    print('Il a vu un vieux camion jaune')\n",
    "    print('Sample 2:')\n",
    "    print(' '.join([y_id_to_word[np.argmax(x)] for x in predictions[1]]))\n",
    "    print(' '.join([y_id_to_word[np.argmax(x)] for x in y[0]]))\n",
    "\n",
    "\n",
    "final_predictions(preproc_english_sentences, preproc_french_sentences, english_tokenizer, french_tokenizer)"
   ]
  },
  {
   "cell_type": "markdown",
   "metadata": {},
   "source": [
    "## Submission\n",
    "When you are ready to submit your project, do the following steps:\n",
    "1. Ensure you pass all points on the [rubric](https://review.udacity.com/#!/rubrics/1004/view).\n",
    "2. Submit the following in a zip file.\n",
    "  - `helper.py`\n",
    "  - `machine_translation.ipynb`\n",
    "  - `machine_translation.html`\n",
    "    - You can export the notebook by navigating to **File -> Download as -> HTML (.html)**."
   ]
  }
 ],
 "metadata": {
  "kernelspec": {
   "display_name": "Python 3",
   "language": "python",
   "name": "python3"
  },
  "language_info": {
   "codemirror_mode": {
    "name": "ipython",
    "version": 3
   },
   "file_extension": ".py",
   "mimetype": "text/x-python",
   "name": "python",
   "nbconvert_exporter": "python",
   "pygments_lexer": "ipython3",
   "version": "3.5.4"
  }
 },
 "nbformat": 4,
 "nbformat_minor": 1
}
