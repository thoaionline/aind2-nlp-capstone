{
 "cells": [
  {
   "cell_type": "markdown",
   "metadata": {
    "collapsed": true
   },
   "source": [
    "# Artificial Intelligence Nanodegree\n",
    "## Machine Translation Project\n",
    "In this notebook, sections that end with **'(IMPLEMENTATION)'** in the header indicate that the following blocks of code will require additional functionality which you must provide. Please be sure to read the instructions carefully!\n",
    "\n",
    "## Introduction\n",
    "In this notebook, you will build a deep neural network that functions as part of an end-to-end machine translation pipeline. Your completed pipeline will accept English text as input and return the French translation.\n",
    "\n",
    "- **Preprocess** - You'll convert text to sequence of integers.\n",
    "- **Models** Create models which accepts a sequence of integers as input and returns a probability distribution over possible translations. After learning about the basic types of neural networks that are often used for machine translation, you will engage in your own investigations, to design your own model!\n",
    "- **Prediction** Run the model on English text.\n",
    "\n",
    "## Dataset\n",
    "We begin by investigating the dataset that will be used to train and evaluate your pipeline.  The most common datasets used for machine translation are from [WMT](http://www.statmt.org/).  However, that will take a long time to train a neural network on.  We'll be using a dataset we created for this project that contains a small vocabulary.  You'll be able to train your model in a reasonable time with this dataset.\n",
    "### Load Data\n",
    "The data is located in `data/small_vocab_en` and `data/small_vocab_fr`. The `small_vocab_en` file contains English sentences with their French translations in the `small_vocab_fr` file. Load the English and French data from these files from running the cell below."
   ]
  },
  {
   "cell_type": "code",
   "execution_count": 1,
   "metadata": {
    "collapsed": true
   },
   "outputs": [],
   "source": [
    "%load_ext autoreload\n",
    "%autoreload 2"
   ]
  },
  {
   "cell_type": "code",
   "execution_count": 2,
   "metadata": {},
   "outputs": [
    {
     "name": "stdout",
     "output_type": "stream",
     "text": [
      "Dataset Loaded\n",
      "the united states is usually chilly during july , and it is usually freezing in november .\n",
      "les Ã©tats-unis est gÃ©nÃ©ralement froid en juillet , et il gÃ¨le habituellement en novembre .\n"
     ]
    }
   ],
   "source": [
    "import helper\n",
    "\n",
    "# Load English data\n",
    "english_sentences = helper.load_data('data/small_vocab_en')\n",
    "# Load French data\n",
    "french_sentences = helper.load_data('data/small_vocab_fr')\n",
    "\n",
    "print('Dataset Loaded')\n",
    "\n",
    "print((english_sentences[1]))\n",
    "print((french_sentences[1]))"
   ]
  },
  {
   "cell_type": "markdown",
   "metadata": {},
   "source": [
    "### Files\n",
    "Each line in `small_vocab_en` contains an English sentence with the respective translation in each line of `small_vocab_fr`.  View the first two lines from each file."
   ]
  },
  {
   "cell_type": "code",
   "execution_count": 3,
   "metadata": {},
   "outputs": [
    {
     "name": "stdout",
     "output_type": "stream",
     "text": [
      "small_vocab_en Line 1:  new jersey is sometimes quiet during autumn , and it is snowy in april .\n",
      "small_vocab_fr Line 1:  new jersey est parfois calme pendant l' automne , et il est neigeux en avril .\n",
      "small_vocab_en Line 2:  the united states is usually chilly during july , and it is usually freezing in november .\n",
      "small_vocab_fr Line 2:  les Ã©tats-unis est gÃ©nÃ©ralement froid en juillet , et il gÃ¨le habituellement en novembre .\n"
     ]
    }
   ],
   "source": [
    "for sample_i in range(2):\n",
    "    print('small_vocab_en Line {}:  {}'.format(sample_i + 1, english_sentences[sample_i]))\n",
    "    print('small_vocab_fr Line {}:  {}'.format(sample_i + 1, french_sentences[sample_i]))"
   ]
  },
  {
   "cell_type": "markdown",
   "metadata": {},
   "source": [
    "From looking at the sentences, you can see they have been preprocessed already.  The puncuations have been delimited using spaces. All the text have been converted to lowercase.  This should save you some time, but the text requires more preprocessing.\n",
    "### Vocabulary\n",
    "The complexity of the problem is determined by the complexity of the vocabulary.  A more complex vocabulary is a more complex problem.  Let's look at the complexity of the dataset we'll be working with."
   ]
  },
  {
   "cell_type": "code",
   "execution_count": 4,
   "metadata": {},
   "outputs": [
    {
     "name": "stdout",
     "output_type": "stream",
     "text": [
      "1823250 English words.\n",
      "227 unique English words.\n",
      "10 Most common words in the English dataset:\n",
      "\"is\" \",\" \".\" \"in\" \"it\" \"during\" \"the\" \"but\" \"and\" \"sometimes\"\n",
      "\n",
      "1961295 French words.\n",
      "355 unique French words.\n",
      "10 Most common words in the French dataset:\n",
      "\"est\" \".\" \",\" \"en\" \"il\" \"les\" \"mais\" \"et\" \"la\" \"parfois\"\n"
     ]
    }
   ],
   "source": [
    "import collections\n",
    "\n",
    "\n",
    "english_words_counter = collections.Counter([word for sentence in english_sentences for word in sentence.split()])\n",
    "french_words_counter = collections.Counter([word for sentence in french_sentences for word in sentence.split()])\n",
    "\n",
    "print('{} English words.'.format(len([word for sentence in english_sentences for word in sentence.split()])))\n",
    "print('{} unique English words.'.format(len(english_words_counter)))\n",
    "print('10 Most common words in the English dataset:')\n",
    "print('\"' + '\" \"'.join(list(zip(*english_words_counter.most_common(10)))[0]) + '\"')\n",
    "print()\n",
    "print('{} French words.'.format(len([word for sentence in french_sentences for word in sentence.split()])))\n",
    "print('{} unique French words.'.format(len(french_words_counter)))\n",
    "print('10 Most common words in the French dataset:')\n",
    "print('\"' + '\" \"'.join(list(zip(*french_words_counter.most_common(10)))[0]) + '\"')"
   ]
  },
  {
   "cell_type": "markdown",
   "metadata": {},
   "source": [
    "For comparison, _Alice's Adventures in Wonderland_ contains 2,766 unique words of a total of 15,500 words.\n",
    "## Preprocess\n",
    "For this project, you won't use text data as input to your model. Instead, you'll convert the text into sequences of integers using the following preprocess methods:\n",
    "1. Tokenize the words into ids\n",
    "2. Add padding to make all the sequences the same length.\n",
    "\n",
    "Time to start preprocessing the data...\n",
    "### Tokenize (IMPLEMENTATION)\n",
    "For a neural network to predict on text data, it first has to be turned into data it can understand. Text data like \"dog\" is a sequence of ASCII character encodings.  Since a neural network is a series of multiplication and addition operations, the input data needs to be number(s).\n",
    "\n",
    "We can turn each character into a number or each word into a number.  These are called character and word ids, respectively.  Character ids are used for character level models that generate text predictions for each character.  A word level model uses word ids that generate text predictions for each word.  Word level models tend to learn better, since they are lower in complexity, so we'll use those.\n",
    "\n",
    "Turn each sentence into a sequence of words ids using Keras's [`Tokenizer`](https://keras.io/preprocessing/text/#tokenizer) function. Use this function to tokenize `english_sentences` and `french_sentences` in the cell below.\n",
    "\n",
    "Running the cell will run `tokenize` on sample data and show output for debugging."
   ]
  },
  {
   "cell_type": "code",
   "execution_count": 5,
   "metadata": {},
   "outputs": [
    {
     "name": "stderr",
     "output_type": "stream",
     "text": [
      "Using TensorFlow backend.\n"
     ]
    },
    {
     "name": "stdout",
     "output_type": "stream",
     "text": [
      "{'study': 4, 'the': 3, 'over': 5, 'my': 6, 'this': 7, 'a': 2, 'brown': 8, 'of': 9, 'lazy': 10, 'lexicography': 11, 'is': 12, 'jove': 13, 'quick': 1, 'by': 14, 'dog': 16, 'jumps': 17, 'short': 18, 'prize': 19, 'sentence': 15, 'fox': 21, 'won': 20}\n",
      "\n",
      "Sequence 1 in x\n",
      "  Input:  The quick brown fox jumps over the lazy dog .\n",
      "  Output: [3, 1, 8, 21, 17, 5, 3, 10, 16]\n",
      "Sequence 2 in x\n",
      "  Input:  By Jove , my quick study of lexicography won a prize .\n",
      "  Output: [14, 13, 6, 1, 4, 9, 11, 20, 2, 19]\n",
      "Sequence 3 in x\n",
      "  Input:  This is a short sentence .\n",
      "  Output: [7, 12, 2, 18, 15]\n"
     ]
    }
   ],
   "source": [
    "import project_tests as tests\n",
    "from keras.preprocessing.text import Tokenizer\n",
    "\n",
    "\n",
    "def tokenize(x):\n",
    "    \"\"\"\n",
    "    Tokenize x\n",
    "    :param x: List of sentences/strings to be tokenized\n",
    "    :return: Tuple of (tokenized x data, tokenizer used to tokenize x)\n",
    "    \"\"\"\n",
    "    tokenizer = Tokenizer()\n",
    "    tokenizer.fit_on_texts(x)\n",
    "    tokenized_sentences = tokenizer.texts_to_sequences(x)\n",
    "\n",
    "    return tokenized_sentences, tokenizer\n",
    "\n",
    "tests.test_tokenize(tokenize)\n",
    "\n",
    "# Tokenize Example output\n",
    "text_sentences = [\n",
    "    'The quick brown fox jumps over the lazy dog .',\n",
    "    'By Jove , my quick study of lexicography won a prize .',\n",
    "    'This is a short sentence .']\n",
    "text_tokenized, text_tokenizer = tokenize(text_sentences)\n",
    "print(text_tokenizer.word_index)\n",
    "print()\n",
    "for sample_i, (sent, token_sent) in enumerate(zip(text_sentences, text_tokenized)):\n",
    "    print('Sequence {} in x'.format(sample_i + 1))\n",
    "    print('  Input:  {}'.format(sent))\n",
    "    print('  Output: {}'.format(token_sent))"
   ]
  },
  {
   "cell_type": "markdown",
   "metadata": {},
   "source": [
    "### Padding (IMPLEMENTATION)\n",
    "When batching the sequence of word ids together, each sequence needs to be the same length.  Since sentences are dynamic in length, we can add padding to the end of the sequences to make them the same length.\n",
    "\n",
    "Make sure all the English sequences have the same length and all the French sequences have the same length by adding padding to the **end** of each sequence using Keras's [`pad_sequences`](https://keras.io/preprocessing/sequence/#pad_sequences) function."
   ]
  },
  {
   "cell_type": "code",
   "execution_count": 6,
   "metadata": {},
   "outputs": [
    {
     "name": "stdout",
     "output_type": "stream",
     "text": [
      "Sequence 1 in x\n",
      "  Input:  [ 3  1  8 21 17  5  3 10 16]\n",
      "  Output: [ 3  1  8 21 17  5  3 10 16  0]\n",
      "Sequence 2 in x\n",
      "  Input:  [14 13  6  1  4  9 11 20  2 19]\n",
      "  Output: [14 13  6  1  4  9 11 20  2 19]\n",
      "Sequence 3 in x\n",
      "  Input:  [ 7 12  2 18 15]\n",
      "  Output: [ 7 12  2 18 15  0  0  0  0  0]\n"
     ]
    }
   ],
   "source": [
    "import numpy as np\n",
    "from keras.preprocessing.sequence import pad_sequences\n",
    "\n",
    "\n",
    "def pad(x, length=None):\n",
    "    \"\"\"\n",
    "    Pad x\n",
    "    :param x: List of sequences.\n",
    "    :param length: Length to pad the sequence to.  If None, use length of longest sequence in x.\n",
    "    :return: Padded numpy array of sequences\n",
    "    \"\"\"\n",
    "    return pad_sequences(x,padding='post',maxlen=length)\n",
    "\n",
    "tests.test_pad(pad)\n",
    "\n",
    "# Pad Tokenized output\n",
    "test_pad = pad(text_tokenized)\n",
    "for sample_i, (token_sent, pad_sent) in enumerate(zip(text_tokenized, test_pad)):\n",
    "    print('Sequence {} in x'.format(sample_i + 1))\n",
    "    print('  Input:  {}'.format(np.array(token_sent)))\n",
    "    print('  Output: {}'.format(pad_sent))"
   ]
  },
  {
   "cell_type": "markdown",
   "metadata": {},
   "source": [
    "### Preprocess Pipeline\n",
    "Your focus for this project is to build neural network architecture, so we won't ask you to create a preprocess pipeline.  Instead, we've provided you with the implementation of the `preprocess` function."
   ]
  },
  {
   "cell_type": "code",
   "execution_count": 7,
   "metadata": {},
   "outputs": [
    {
     "name": "stdout",
     "output_type": "stream",
     "text": [
      "Data Preprocessed\n"
     ]
    }
   ],
   "source": [
    "from keras.utils.np_utils import to_categorical\n",
    "\n",
    "def preprocess(x, y):\n",
    "    \"\"\"\n",
    "    Preprocess x and y\n",
    "    :param x: Feature List of sentences\n",
    "    :param y: Label List of sentences\n",
    "    :return: Tuple of (Preprocessed x, Preprocessed y, x tokenizer, y tokenizer)\n",
    "    \"\"\"\n",
    "    preprocess_x, x_tk = tokenize(x)\n",
    "    preprocess_y, y_tk = tokenize(y)\n",
    "\n",
    "    preprocess_x = pad(preprocess_x)\n",
    "    preprocess_y = pad(preprocess_y)\n",
    "\n",
    "    #if preprocess_x.shape[1] > preprocess_y.shape[1]:\n",
    "    #    preprocess_y = pad(preprocess_y, preprocess_x.shape[1])\n",
    "    #elif preprocess_x.shape[1] < preprocess_y.shape[1]:\n",
    "    #    preprocess_x = pad(preprocess_x, preprocess_y.shape[1])\n",
    "\n",
    "    # Keras's sparse_categorical_crossentropy function requires the labels to be in 3 dimensions\n",
    "    preprocess_y = preprocess_y.reshape(*preprocess_y.shape, 1)\n",
    "    \n",
    "    #total_tokens = len(y_tk.word_index) + 1\n",
    "    #preprocess_y = np.array([to_categorical(preprocess_y[i],total_tokens) for i in range(len(preprocess_y))])\n",
    "\n",
    "    return preprocess_x, preprocess_y, x_tk, y_tk\n",
    "\n",
    "preproc_english_sentences, preproc_french_sentences, english_tokenizer, french_tokenizer =\\\n",
    "    preprocess(english_sentences, french_sentences)\n",
    "\n",
    "print('Data Preprocessed')"
   ]
  },
  {
   "cell_type": "code",
   "execution_count": 8,
   "metadata": {},
   "outputs": [
    {
     "name": "stdout",
     "output_type": "stream",
     "text": [
      "[ 5 21 20  1  9 62  4 43  7  3  1  9 51  2 45]\n",
      "[[ 4]\n",
      " [32]\n",
      " [31]\n",
      " [ 1]\n",
      " [12]\n",
      " [19]\n",
      " [ 2]\n",
      " [49]\n",
      " [ 6]\n",
      " [ 3]\n",
      " [95]\n",
      " [69]\n",
      " [ 2]\n",
      " [51]\n",
      " [ 0]\n",
      " [ 0]\n",
      " [ 0]\n",
      " [ 0]\n",
      " [ 0]\n",
      " [ 0]\n",
      " [ 0]]\n"
     ]
    }
   ],
   "source": [
    "print(preproc_english_sentences[1])\n",
    "print(preproc_french_sentences[1])"
   ]
  },
  {
   "cell_type": "markdown",
   "metadata": {},
   "source": [
    "## Models\n",
    "In this section, you will experiment with various neural network architectures.\n",
    "You will begin by training four relatively simple architectures.\n",
    "- Model 1 is a simple RNN\n",
    "- Model 2 is a RNN with Embedding\n",
    "- Model 3 is a Bidirectional RNN\n",
    "- Model 4 is an optional Encoder-Decoder RNN\n",
    "\n",
    "After experimenting with the four simple architectures, you will construct a deeper architecture that is designed to outperform all four models.\n",
    "### Ids Back to Text\n",
    "The neural network will be translating the input to words ids, which isn't the final form we want.  We want the French translation.  The function `logits_to_text` will bridge the gab between the logits from the neural network to the French translation.  You'll be using this function to better understand the output of the neural network."
   ]
  },
  {
   "cell_type": "code",
   "execution_count": 9,
   "metadata": {},
   "outputs": [
    {
     "name": "stdout",
     "output_type": "stream",
     "text": [
      "`logits_to_text` function loaded.\n"
     ]
    }
   ],
   "source": [
    "def logits_to_text(logits, tokenizer):\n",
    "    \"\"\"\n",
    "    Turn logits from a neural network into text using the tokenizer\n",
    "    :param logits: Logits from a neural network\n",
    "    :param tokenizer: Keras Tokenizer fit on the labels\n",
    "    :return: String that represents the text of the logits\n",
    "    \"\"\"\n",
    "    index_to_words = {id: word for word, id in tokenizer.word_index.items()}\n",
    "    index_to_words[0] = '<PAD>'\n",
    "\n",
    "    return ' '.join([index_to_words[prediction] for prediction in np.argmax(logits, 1)])\n",
    "\n",
    "print('`logits_to_text` function loaded.')"
   ]
  },
  {
   "cell_type": "markdown",
   "metadata": {},
   "source": [
    "### Model 1: RNN (IMPLEMENTATION)\n",
    "![RNN](images/rnn.png)\n",
    "A basic RNN model is a good baseline for sequence data.  In this model, you'll build a RNN that translates English to French."
   ]
  },
  {
   "cell_type": "code",
   "execution_count": 10,
   "metadata": {},
   "outputs": [
    {
     "name": "stdout",
     "output_type": "stream",
     "text": [
      "(137861, 21, 1)\n"
     ]
    }
   ],
   "source": [
    "# Reshaping the input to work with a basic RNN\n",
    "tmp_x = pad(preproc_english_sentences, preproc_french_sentences.shape[1])\n",
    "tmp_x = tmp_x.reshape((-1, preproc_french_sentences.shape[-2], 1))\n",
    "print(tmp_x.shape)"
   ]
  },
  {
   "cell_type": "code",
   "execution_count": 11,
   "metadata": {},
   "outputs": [
    {
     "name": "stdout",
     "output_type": "stream",
     "text": [
      "_________________________________________________________________\n",
      "Layer (type)                 Output Shape              Param #   \n",
      "=================================================================\n",
      "lstm_2 (LSTM)                (None, 21, 21)            1932      \n",
      "_________________________________________________________________\n",
      "time_distributed_2 (TimeDist (None, 21, 346)           7612      \n",
      "=================================================================\n",
      "Total params: 9,544.0\n",
      "Trainable params: 9,544\n",
      "Non-trainable params: 0.0\n",
      "_________________________________________________________________\n",
      "None\n"
     ]
    }
   ],
   "source": [
    "from keras.layers import GRU, Input, Dense, TimeDistributed, LSTM\n",
    "from keras.models import Model, Sequential\n",
    "from keras.layers import Activation\n",
    "from keras.optimizers import Adam\n",
    "from keras.losses import sparse_categorical_crossentropy\n",
    "\n",
    "def simple_model(input_shape, output_sequence_length, english_vocab_size, french_vocab_size, learning_rate=0.1):\n",
    "    \"\"\"\n",
    "    Build and train a basic RNN on x and y\n",
    "    :param input_shape: Tuple of input shape\n",
    "    :param output_sequence_length: Length of output sequence\n",
    "    :param english_vocab_size: Number of unique English words in the dataset\n",
    "    :param french_vocab_size: Number of unique French words in the dataset\n",
    "    :return: Keras model built, but not trained\n",
    "    \"\"\"\n",
    "    # TODO: Build the layers\n",
    "    model = Sequential()\n",
    "    model.add(LSTM(output_sequence_length, input_shape=input_shape[1:], return_sequences=True))\n",
    "    model.add(TimeDistributed(Dense(french_vocab_size)))\n",
    "\n",
    "    model.compile(loss=sparse_categorical_crossentropy,\n",
    "                  optimizer=Adam(learning_rate),\n",
    "                  metrics=['accuracy'])\n",
    "    return model\n",
    "\n",
    "tests.test_simple_model(simple_model)\n",
    "\n",
    "# Train the neural network\n",
    "simple_rnn_model = simple_model(\n",
    "    tmp_x.shape,\n",
    "    preproc_french_sentences.shape[1],\n",
    "    len(english_tokenizer.word_index) + 1, # Add a code for padding\n",
    "    len(french_tokenizer.word_index) + 1,\n",
    "    learning_rate=0.005 # Lowered learning rate for better fit\n",
    ")\n",
    "\n",
    "print(simple_rnn_model.summary())\n"
   ]
  },
  {
   "cell_type": "code",
   "execution_count": 12,
   "metadata": {},
   "outputs": [
    {
     "name": "stdout",
     "output_type": "stream",
     "text": [
      "(137861, 21, 1)\n",
      "Train on 110288 samples, validate on 27573 samples\n",
      "Epoch 1/10\n",
      "110288/110288 [==============================] - 3s - loss: 9.3310 - acc: 0.1657 - val_loss: 7.3906 - val_acc: 0.3982\n",
      "Epoch 2/10\n",
      "110288/110288 [==============================] - 2s - loss: 7.1337 - acc: 0.4236 - val_loss: 6.6490 - val_acc: 0.4485\n",
      "Epoch 3/10\n",
      "110288/110288 [==============================] - 2s - loss: 6.5912 - acc: 0.4478 - val_loss: 6.4698 - val_acc: 0.4456\n",
      "Epoch 4/10\n",
      "110288/110288 [==============================] - 2s - loss: 6.4256 - acc: 0.4417 - val_loss: 6.3727 - val_acc: 0.4299\n",
      "Epoch 5/10\n",
      "110288/110288 [==============================] - 2s - loss: 6.3669 - acc: 0.4265 - val_loss: 6.3718 - val_acc: 0.4281\n",
      "Epoch 6/10\n",
      "110288/110288 [==============================] - 2s - loss: 6.3668 - acc: 0.4269 - val_loss: 6.3526 - val_acc: 0.4288\n",
      "Epoch 7/10\n",
      "110288/110288 [==============================] - 2s - loss: 6.3467 - acc: 0.4288 - val_loss: 6.3145 - val_acc: 0.4316\n",
      "Epoch 8/10\n",
      "110288/110288 [==============================] - 2s - loss: 6.2962 - acc: 0.4303 - val_loss: 6.2660 - val_acc: 0.4452\n",
      "Epoch 9/10\n",
      "110288/110288 [==============================] - 2s - loss: 6.2517 - acc: 0.4441 - val_loss: 6.2170 - val_acc: 0.4529\n",
      "Epoch 10/10\n",
      "110288/110288 [==============================] - 2s - loss: 6.1884 - acc: 0.4543 - val_loss: 6.1775 - val_acc: 0.4590\n"
     ]
    },
    {
     "data": {
      "text/plain": [
       "<keras.callbacks.History at 0x2285d720978>"
      ]
     },
     "execution_count": 12,
     "metadata": {},
     "output_type": "execute_result"
    }
   ],
   "source": [
    "print(preproc_french_sentences.shape)\n",
    "\n",
    "from keras.callbacks import EarlyStopping\n",
    "\n",
    "simple_rnn_model.fit(\n",
    "    tmp_x, \n",
    "    preproc_french_sentences, \n",
    "    batch_size=36762, epochs=10, validation_split=0.2#,\n",
    "    #callbacks = [EarlyStopping(monitor='val_acc', patience=3, mode='max')]\n",
    ")"
   ]
  },
  {
   "cell_type": "code",
   "execution_count": 13,
   "metadata": {},
   "outputs": [
    {
     "name": "stdout",
     "output_type": "stream",
     "text": [
      "(1, 21, 346)\n",
      "ENGLISH:  that cat was my most loved animal .\n",
      "FRENCH:  est est est est est est est <PAD> <PAD> <PAD> <PAD> <PAD> <PAD> <PAD> <PAD> <PAD> <PAD> <PAD> <PAD> <PAD> <PAD>\n",
      "[17]\n",
      "\n"
     ]
    }
   ],
   "source": [
    "# Print prediction(s)\n",
    "\n",
    "def preview_sentence(sentence_index,input_x,model):\n",
    "    print(model.predict(input_x[sentence_index:sentence_index+1]).shape)\n",
    "    print('ENGLISH: ',english_sentences[sentence_index])\n",
    "    print('FRENCH: ',\n",
    "        logits_to_text(\n",
    "            model.predict(input_x[sentence_index:sentence_index+1])[0],\n",
    "            french_tokenizer\n",
    "        )\n",
    "    )\n",
    "    pass\n",
    "\n",
    "preview_sentence(13,tmp_x,simple_rnn_model)\n",
    "\n",
    "print(tmp_x[0][0])\n",
    "\n",
    "print()"
   ]
  },
  {
   "cell_type": "markdown",
   "metadata": {},
   "source": [
    "### Model 2: Embedding (IMPLEMENTATION)\n",
    "![RNN](images/embedding.png)\n",
    "You've turned the words into ids, but there's a better representation of a word.  This is called word embeddings.  An embedding is a vector representation of the word that is close to similar words in n-dimensional space, where the n represents the size of the embedding vectors.\n",
    "\n",
    "In this model, you'll create a RNN model using embedding."
   ]
  },
  {
   "cell_type": "code",
   "execution_count": 14,
   "metadata": {},
   "outputs": [
    {
     "name": "stdout",
     "output_type": "stream",
     "text": [
      "_________________________________________________________________\n",
      "Layer (type)                 Output Shape              Param #   \n",
      "=================================================================\n",
      "embedding_1 (Embedding)      (None, 21, 344)           68456     \n",
      "_________________________________________________________________\n",
      "lstm_3 (LSTM)                (None, 21, 21)            30744     \n",
      "_________________________________________________________________\n",
      "time_distributed_3 (TimeDist (None, 21, 344)           7568      \n",
      "=================================================================\n",
      "Total params: 106,768.0\n",
      "Trainable params: 106,768\n",
      "Non-trainable params: 0.0\n",
      "_________________________________________________________________\n",
      "_________________________________________________________________\n",
      "Layer (type)                 Output Shape              Param #   \n",
      "=================================================================\n",
      "embedding_2 (Embedding)      (None, 21, 346)           69200     \n",
      "_________________________________________________________________\n",
      "lstm_4 (LSTM)                (None, 21, 21)            30912     \n",
      "_________________________________________________________________\n",
      "time_distributed_4 (TimeDist (None, 21, 346)           7612      \n",
      "=================================================================\n",
      "Total params: 107,724.0\n",
      "Trainable params: 107,724\n",
      "Non-trainable params: 0.0\n",
      "_________________________________________________________________\n"
     ]
    }
   ],
   "source": [
    "from keras.layers.embeddings import Embedding\n",
    "\n",
    "\n",
    "def embed_model(input_shape, output_sequence_length, english_vocab_size, french_vocab_size):\n",
    "    \"\"\"\n",
    "    Build and train a RNN model using word embedding on x and y\n",
    "    :param input_shape: Tuple of input shape\n",
    "    :param output_sequence_length: Length of output sequence\n",
    "    :param english_vocab_size: Number of unique English words in the dataset\n",
    "    :param french_vocab_size: Number of unique French words in the dataset\n",
    "    :return: Keras model built, but not trained\n",
    "    \"\"\"\n",
    "    # TODO: Implement\n",
    "    model = Sequential()\n",
    "    model.add(Embedding(\n",
    "        input_length = input_shape[1],\n",
    "        input_dim=english_vocab_size,\n",
    "        output_dim = french_vocab_size\n",
    "    ))\n",
    "    \n",
    "    model.add(LSTM(\n",
    "        output_sequence_length,\n",
    "        input_shape = input_shape[1:],\n",
    "        return_sequences = True           \n",
    "    ))\n",
    "    \n",
    "    model.add(TimeDistributed(Dense(french_vocab_size)))\n",
    "\n",
    "    model.summary()\n",
    "\n",
    "    model.compile(loss=sparse_categorical_crossentropy,\n",
    "              optimizer=Adam(),\n",
    "              metrics=['accuracy'])\n",
    "\n",
    "    return model\n",
    "\n",
    "tests.test_embed_model(embed_model)\n",
    "\n",
    "# TODO: Reshape the input\n",
    "max_length = max(preproc_english_sentences.shape[1],preproc_french_sentences.shape[1])\n",
    "padded_x = pad(preproc_english_sentences, max_length)\n",
    "\n",
    "embed_rnn = embed_model(\n",
    "    padded_x.shape,\n",
    "    preproc_french_sentences.shape[1],\n",
    "    len(english_tokenizer.word_index) + 1,\n",
    "    len(french_tokenizer.word_index) + 1\n",
    ")"
   ]
  },
  {
   "cell_type": "code",
   "execution_count": 15,
   "metadata": {},
   "outputs": [
    {
     "name": "stdout",
     "output_type": "stream",
     "text": [
      "Train on 110288 samples, validate on 27573 samples\n",
      "Epoch 1/10\n",
      "110288/110288 [==============================] - 4s - loss: 6.9773 - acc: 0.1388 - val_loss: 4.9587 - val_acc: 0.4400\n",
      "Epoch 2/10\n",
      "110288/110288 [==============================] - 3s - loss: 4.7186 - acc: 0.4548 - val_loss: 4.2006 - val_acc: 0.4922\n",
      "Epoch 3/10\n",
      "110288/110288 [==============================] - 3s - loss: 4.0801 - acc: 0.4955 - val_loss: 3.7161 - val_acc: 0.4973\n",
      "Epoch 4/10\n",
      "110288/110288 [==============================] - 3s - loss: 3.6390 - acc: 0.4997 - val_loss: 3.4075 - val_acc: 0.5080\n",
      "Epoch 5/10\n",
      "110288/110288 [==============================] - 3s - loss: 3.3505 - acc: 0.5071 - val_loss: 3.1352 - val_acc: 0.5081\n",
      "Epoch 6/10\n",
      "110288/110288 [==============================] - 3s - loss: 3.0756 - acc: 0.5068 - val_loss: 2.8721 - val_acc: 0.5037\n",
      "Epoch 7/10\n",
      "110288/110288 [==============================] - 3s - loss: 2.8244 - acc: 0.5018 - val_loss: 2.6733 - val_acc: 0.5002\n",
      "Epoch 8/10\n",
      "110288/110288 [==============================] - 3s - loss: 2.6506 - acc: 0.4978 - val_loss: 2.5403 - val_acc: 0.4959\n",
      "Epoch 9/10\n",
      "110288/110288 [==============================] - 3s - loss: 2.5322 - acc: 0.4943 - val_loss: 2.4769 - val_acc: 0.4939\n",
      "Epoch 10/10\n",
      "110288/110288 [==============================] - 3s - loss: 2.4652 - acc: 0.4922 - val_loss: 2.3995 - val_acc: 0.4940\n"
     ]
    },
    {
     "data": {
      "text/plain": [
       "<keras.callbacks.History at 0x228683cfd30>"
      ]
     },
     "execution_count": 15,
     "metadata": {},
     "output_type": "execute_result"
    }
   ],
   "source": [
    "# TODO: Train the neural network\n",
    "embed_rnn.fit(\n",
    "    padded_x,preproc_french_sentences,\n",
    "    batch_size=36762, epochs=10, validation_split=0.2#,\n",
    "    #callbacks = [EarlyStopping(monitor='val_loss', patience=3)]\n",
    ")\n"
   ]
  },
  {
   "cell_type": "code",
   "execution_count": 16,
   "metadata": {},
   "outputs": [
    {
     "name": "stdout",
     "output_type": "stream",
     "text": [
      "(1, 21, 346)\n",
      "ENGLISH:  his favorite fruit is the orange , but my favorite is the grape .\n",
      "FRENCH:  est fruit est est est est est mon il est est <PAD> <PAD> <PAD> <PAD> <PAD> <PAD> <PAD> <PAD> <PAD> <PAD>\n"
     ]
    }
   ],
   "source": [
    "# TODO: Print prediction(s)\n",
    "preview_sentence(5,padded_x,embed_rnn)"
   ]
  },
  {
   "cell_type": "markdown",
   "metadata": {},
   "source": [
    "### Model 3: Bidirectional RNNs (IMPLEMENTATION)\n",
    "![RNN](images/bidirectional.png)\n",
    "One restriction of a RNN is that it can't see the future input, only the past.  This is where bidirectional recurrent neural networks come in.  They are able to see the future data."
   ]
  },
  {
   "cell_type": "code",
   "execution_count": 17,
   "metadata": {},
   "outputs": [
    {
     "name": "stdout",
     "output_type": "stream",
     "text": [
      "_________________________________________________________________\n",
      "Layer (type)                 Output Shape              Param #   \n",
      "=================================================================\n",
      "bidirectional_1 (Bidirection (None, 21, 21)            3864      \n",
      "_________________________________________________________________\n",
      "time_distributed_5 (TimeDist (None, 21, 344)           7568      \n",
      "=================================================================\n",
      "Total params: 11,432.0\n",
      "Trainable params: 11,432\n",
      "Non-trainable params: 0.0\n",
      "_________________________________________________________________\n"
     ]
    }
   ],
   "source": [
    "from keras.layers import Bidirectional\n",
    "\n",
    "\n",
    "def bd_model(input_shape, output_sequence_length, english_vocab_size, french_vocab_size):\n",
    "    \"\"\"\n",
    "    Build and train a bidirectional RNN model on x and y\n",
    "    :param input_shape: Tuple of input shape\n",
    "    :param output_sequence_length: Length of output sequence\n",
    "    :param english_vocab_size: Number of unique English words in the dataset\n",
    "    :param french_vocab_size: Number of unique French words in the dataset\n",
    "    :return: Keras model built, but not trained\n",
    "    \"\"\"\n",
    "    model = Sequential()\n",
    "    model.add(\n",
    "        Bidirectional(\n",
    "            LSTM(\n",
    "                output_sequence_length,\n",
    "                return_sequences=True\n",
    "            ),\n",
    "            input_shape=input_shape[1:],\n",
    "            merge_mode='sum'\n",
    "        )\n",
    "    )\n",
    "\n",
    "    model.add(TimeDistributed(Dense(french_vocab_size)))\n",
    "\n",
    "    model.compile(loss=sparse_categorical_crossentropy,\n",
    "                  optimizer=Adam(),\n",
    "                  metrics=['accuracy'])\n",
    "\n",
    "    model.summary()\n",
    "\n",
    "    return model\n",
    "\n",
    "tests.test_bd_model(bd_model)\n",
    "\n"
   ]
  },
  {
   "cell_type": "code",
   "execution_count": 18,
   "metadata": {},
   "outputs": [
    {
     "name": "stdout",
     "output_type": "stream",
     "text": [
      "_________________________________________________________________\n",
      "Layer (type)                 Output Shape              Param #   \n",
      "=================================================================\n",
      "bidirectional_2 (Bidirection (None, 21, 21)            3864      \n",
      "_________________________________________________________________\n",
      "time_distributed_6 (TimeDist (None, 21, 346)           7612      \n",
      "=================================================================\n",
      "Total params: 11,476.0\n",
      "Trainable params: 11,476\n",
      "Non-trainable params: 0.0\n",
      "_________________________________________________________________\n"
     ]
    }
   ],
   "source": [
    "\n",
    "bd_rnn = bd_model(\n",
    "    tmp_x.shape,\n",
    "    preproc_french_sentences.shape[1],\n",
    "    len(english_tokenizer.word_index) + 1,\n",
    "    len(french_tokenizer.word_index) + 1\n",
    ")\n"
   ]
  },
  {
   "cell_type": "code",
   "execution_count": 19,
   "metadata": {},
   "outputs": [
    {
     "name": "stdout",
     "output_type": "stream",
     "text": [
      "Train on 110288 samples, validate on 27573 samples\n",
      "Epoch 1/20\n",
      "110288/110288 [==============================] - 4s - loss: 13.8376 - acc: 0.0063 - val_loss: 10.7785 - val_acc: 0.0071\n",
      "Epoch 2/20\n",
      "110288/110288 [==============================] - 3s - loss: 10.3282 - acc: 0.0073 - val_loss: 9.1949 - val_acc: 0.0085\n",
      "Epoch 3/20\n",
      "110288/110288 [==============================] - 3s - loss: 9.0180 - acc: 0.0098 - val_loss: 8.5760 - val_acc: 0.0191\n",
      "Epoch 4/20\n",
      "110288/110288 [==============================] - 3s - loss: 8.4775 - acc: 0.0262 - val_loss: 8.1907 - val_acc: 0.0747\n",
      "Epoch 5/20\n",
      "110288/110288 [==============================] - 3s - loss: 8.1088 - acc: 0.1015 - val_loss: 7.8679 - val_acc: 0.1768\n",
      "Epoch 6/20\n",
      "110288/110288 [==============================] - 3s - loss: 7.8118 - acc: 0.2033 - val_loss: 7.6009 - val_acc: 0.2928\n",
      "Epoch 7/20\n",
      "110288/110288 [==============================] - 3s - loss: 7.5466 - acc: 0.3203 - val_loss: 7.3448 - val_acc: 0.3677\n",
      "Epoch 8/20\n",
      "110288/110288 [==============================] - 3s - loss: 7.3009 - acc: 0.3728 - val_loss: 7.1125 - val_acc: 0.3939\n",
      "Epoch 9/20\n",
      "110288/110288 [==============================] - 3s - loss: 7.0701 - acc: 0.3984 - val_loss: 6.8929 - val_acc: 0.4091\n",
      "Epoch 10/20\n",
      "110288/110288 [==============================] - 3s - loss: 6.8566 - acc: 0.4097 - val_loss: 6.6804 - val_acc: 0.4135\n",
      "Epoch 11/20\n",
      "110288/110288 [==============================] - 3s - loss: 6.6451 - acc: 0.4125 - val_loss: 6.5091 - val_acc: 0.4136\n",
      "Epoch 12/20\n",
      "110288/110288 [==============================] - 3s - loss: 6.4941 - acc: 0.4118 - val_loss: 6.4086 - val_acc: 0.4126\n",
      "Epoch 13/20\n",
      "110288/110288 [==============================] - 3s - loss: 6.4056 - acc: 0.4123 - val_loss: 6.3462 - val_acc: 0.4152\n",
      "Epoch 14/20\n",
      "110288/110288 [==============================] - 3s - loss: 6.3469 - acc: 0.4142 - val_loss: 6.2989 - val_acc: 0.4154\n",
      "Epoch 15/20\n",
      "110288/110288 [==============================] - 3s - loss: 6.3062 - acc: 0.4143 - val_loss: 6.2684 - val_acc: 0.4154\n",
      "Epoch 16/20\n",
      "110288/110288 [==============================] - 3s - loss: 6.2736 - acc: 0.4145 - val_loss: 6.2343 - val_acc: 0.4156\n",
      "Epoch 17/20\n",
      "110288/110288 [==============================] - 3s - loss: 6.2412 - acc: 0.4144 - val_loss: 6.2041 - val_acc: 0.4160\n",
      "Epoch 18/20\n",
      "110288/110288 [==============================] - 3s - loss: 6.2135 - acc: 0.4148 - val_loss: 6.1814 - val_acc: 0.4158\n",
      "Epoch 19/20\n",
      "110288/110288 [==============================] - 3s - loss: 6.1931 - acc: 0.4146 - val_loss: 6.1639 - val_acc: 0.4186\n",
      "Epoch 20/20\n",
      "110288/110288 [==============================] - 3s - loss: 6.1777 - acc: 0.4174 - val_loss: 6.1487 - val_acc: 0.4185\n"
     ]
    },
    {
     "data": {
      "text/plain": [
       "<keras.callbacks.History at 0x22871cf1c50>"
      ]
     },
     "execution_count": 19,
     "metadata": {},
     "output_type": "execute_result"
    }
   ],
   "source": [
    "# TODO: Train and Print prediction(s)\n",
    "bd_rnn.fit(tmp_x, preproc_french_sentences,\n",
    "    batch_size=36762, epochs=20, validation_split=0.2#,\n",
    "    #callbacks = [EarlyStopping(monitor='val_loss', patience=3)]\n",
    ")"
   ]
  },
  {
   "cell_type": "code",
   "execution_count": 20,
   "metadata": {},
   "outputs": [
    {
     "name": "stdout",
     "output_type": "stream",
     "text": [
      "(1, 21, 346)\n",
      "ENGLISH:  the united states is sometimes mild during june , and it is cold in september .\n",
      "FRENCH:  la en en <PAD> <PAD> en <PAD> en <PAD> <PAD> <PAD> <PAD> <PAD> en <PAD> <PAD> <PAD> <PAD> <PAD> <PAD> <PAD>\n"
     ]
    }
   ],
   "source": [
    "preview_sentence(3,tmp_x,bd_rnn)"
   ]
  },
  {
   "cell_type": "markdown",
   "metadata": {},
   "source": [
    "### Model 4: Encoder-Decoder (OPTIONAL)\n",
    "Time to look at encoder-decoder models.  This model is made up of an encoder and decoder. The encoder creates a matrix representation of the sentence.  The decoder takes this matrix as input and predicts the translation as output.\n",
    "\n",
    "Create an encoder-decoder model in the cell below."
   ]
  },
  {
   "cell_type": "code",
   "execution_count": 21,
   "metadata": {},
   "outputs": [
    {
     "name": "stdout",
     "output_type": "stream",
     "text": [
      "_________________________________________________________________\n",
      "Layer (type)                 Output Shape              Param #   \n",
      "=================================================================\n",
      "gru_1 (GRU)                  (None, 256)               198144    \n",
      "_________________________________________________________________\n",
      "repeat_vector_1 (RepeatVecto (None, 21, 256)           0         \n",
      "_________________________________________________________________\n",
      "gru_2 (GRU)                  (None, 21, 256)           393984    \n",
      "_________________________________________________________________\n",
      "time_distributed_7 (TimeDist (None, 21, 344)           88408     \n",
      "=================================================================\n",
      "Total params: 680,536.0\n",
      "Trainable params: 680,536.0\n",
      "Non-trainable params: 0.0\n",
      "_________________________________________________________________\n"
     ]
    }
   ],
   "source": [
    "from keras.layers import RepeatVector\n",
    "\n",
    "\n",
    "def encdec_model(input_shape, output_sequence_length, english_vocab_size, french_vocab_size):\n",
    "    \"\"\"\n",
    "    Build and train an encoder-decoder model on x and y\n",
    "    :param input_shape: Tuple of input shape\n",
    "    :param output_sequence_length: Length of output sequence\n",
    "    :param english_vocab_size: Number of unique English words in the dataset\n",
    "    :param french_vocab_size: Number of unique French words in the dataset\n",
    "    :return: Keras model built, but not trained\n",
    "    \"\"\"\n",
    "    # OPTIONAL: Implement\n",
    "    model = Sequential()\n",
    "\n",
    "    model.add(GRU(256,input_shape=input_shape[1:]))\n",
    "\n",
    "    model.add(RepeatVector(output_sequence_length))\n",
    "\n",
    "    model.add(GRU(256,input_shape=input_shape[1:], return_sequences = True))\n",
    "\n",
    "    model.add(TimeDistributed(Dense(french_vocab_size)))\n",
    "\n",
    "    model.compile(loss=sparse_categorical_crossentropy,\n",
    "                  optimizer=Adam(),\n",
    "                  metrics=['accuracy'])\n",
    "\n",
    "    model.summary()\n",
    "\n",
    "    return model\n",
    "\n",
    "tests.test_encdec_model(encdec_model)\n",
    "\n",
    "\n",
    "# OPTIONAL: Train and Print prediction(s)"
   ]
  },
  {
   "cell_type": "markdown",
   "metadata": {},
   "source": [
    "### Model 5: Custom (IMPLEMENTATION)\n",
    "Use everything you learned from the previous models to create a model that incorporates embedding and a bidirectional rnn into one model."
   ]
  },
  {
   "cell_type": "code",
   "execution_count": 22,
   "metadata": {},
   "outputs": [
    {
     "name": "stdout",
     "output_type": "stream",
     "text": [
      "Final Model Loaded\n",
      "_________________________________________________________________\n",
      "Layer (type)                 Output Shape              Param #   \n",
      "=================================================================\n",
      "embedding_3 (Embedding)      (None, 21, 346)           69200     \n",
      "_________________________________________________________________\n",
      "bidirectional_3 (Bidirection (None, 21, 256)           926208    \n",
      "_________________________________________________________________\n",
      "time_distributed_8 (TimeDist (None, 21, 346)           88922     \n",
      "=================================================================\n",
      "Total params: 1,084,330.0\n",
      "Trainable params: 1,084,330\n",
      "Non-trainable params: 0.0\n",
      "_________________________________________________________________\n"
     ]
    }
   ],
   "source": [
    "import project_tests as tests\n",
    "\n",
    "def model_final(input_shape, output_sequence_length, english_vocab_size, french_vocab_size):\n",
    "    \"\"\"\n",
    "    Build and train a model that incorporates embedding, encoder-decoder, and bidirectional RNN on x and y\n",
    "    :param input_shape: Tuple of input shape\n",
    "    :param output_sequence_length: Length of output sequence\n",
    "    :param english_vocab_size: Number of unique English words in the dataset\n",
    "    :param french_vocab_size: Number of unique French words in the dataset\n",
    "    :return: Keras model built, but not trained\n",
    "    \"\"\"\n",
    "\n",
    "    model = Sequential()\n",
    "\n",
    "    model.add(Embedding(\n",
    "        input_length = input_shape[1],\n",
    "        input_dim=english_vocab_size,\n",
    "        output_dim = french_vocab_size\n",
    "    ))\n",
    "    \n",
    "    # TODO: Implement encoder\n",
    "    #model.add(GRU(input_shape[1]))\n",
    "    #model.add(RepeatVector(output_sequence_length))\n",
    "\n",
    "    model.add(\n",
    "        Bidirectional(\n",
    "            GRU(\n",
    "                256,\n",
    "                return_sequences=True\n",
    "            ),\n",
    "            merge_mode='sum'\n",
    "        )\n",
    "    )\n",
    "\n",
    "    model.add(TimeDistributed(Dense(french_vocab_size)))\n",
    "\n",
    "    model.compile(\n",
    "        loss=sparse_categorical_crossentropy,\n",
    "        optimizer=Adam(),\n",
    "        metrics=['accuracy']\n",
    "    )\n",
    "\n",
    "    model.summary()\n",
    "\n",
    "    return model\n",
    "\n",
    "#tests.test_model_final(model_final) # Test will fail without encoder-decoder\n",
    "\n",
    "print('Final Model Loaded')\n",
    "\n",
    "final_rnn = model_final(\n",
    "    padded_x.shape,\n",
    "    preproc_french_sentences.shape[1],\n",
    "    len(english_tokenizer.word_index) + 1,\n",
    "    len(french_tokenizer.word_index) + 1\n",
    ")"
   ]
  },
  {
   "cell_type": "code",
   "execution_count": 23,
   "metadata": {},
   "outputs": [
    {
     "data": {
      "image/png": "[encoded data removed]",
      "text/plain": [
       "<matplotlib.figure.Figure at 0x22878221320>"
      ]
     },
     "metadata": {},
     "output_type": "display_data"
    },
    {
     "name": "stdout",
     "output_type": "stream",
     "text": [
      "110288/110288 [==============================] - 8s - loss: 1.1241 - acc: 0.6631 - val_loss: 1.1190 - val_acc: 0.6602\n"
     ]
    }
   ],
   "source": [
    "# This is a test run, full training below\n",
    "import keras.callbacks\n",
    "\n",
    "from matplotlib import pyplot as plt\n",
    "from IPython.display import clear_output\n",
    "\n",
    "# CODE FROM https://gist.github.com/stared/dfb4dfaf6d9a8501cd1cc8b8cb806d2e\n",
    "class PlotLosses(keras.callbacks.Callback):\n",
    "    def on_train_begin(self, logs={}):\n",
    "        self.i = 0\n",
    "        self.x = []\n",
    "        self.losses = []\n",
    "        self.val_losses = []\n",
    "        \n",
    "        self.fig = plt.figure()\n",
    "        \n",
    "        self.logs = []\n",
    "\n",
    "    def on_epoch_end(self, epoch, logs={}):\n",
    "        \n",
    "        self.logs.append(logs)\n",
    "        self.x.append(self.i)\n",
    "        self.losses.append(logs.get('loss'))\n",
    "        self.val_losses.append(logs.get('val_loss'))\n",
    "        self.i += 1\n",
    "        \n",
    "        clear_output(wait=True)\n",
    "        plt.plot(self.x, self.losses, label=\"loss\")\n",
    "        plt.plot(self.x, self.val_losses, label=\"val_loss\")\n",
    "        plt.legend(prop={'size': 6})\n",
    "        plt.show();\n",
    "\n",
    "        \n",
    "history = final_rnn.fit(\n",
    "    padded_x, preproc_french_sentences,    \n",
    "    batch_size=10000, epochs=10, validation_split=0.2,\n",
    "    callbacks=[PlotLosses()]\n",
    ")\n"
   ]
  },
  {
   "cell_type": "code",
   "execution_count": 24,
   "metadata": {},
   "outputs": [
    {
     "name": "stdout",
     "output_type": "stream",
     "text": [
      "(1, 21, 346)\n",
      "ENGLISH:  the united states is sometimes mild during june , and it is cold in september .\n",
      "FRENCH:  les aux printemps est parfois doux en juin juin il est froid en septembre <PAD> <PAD> <PAD> <PAD> <PAD> <PAD> <PAD>\n"
     ]
    }
   ],
   "source": [
    "preview_sentence(3,padded_x,final_rnn)"
   ]
  },
  {
   "cell_type": "markdown",
   "metadata": {},
   "source": [
    "## Prediction (IMPLEMENTATION)"
   ]
  },
  {
   "cell_type": "code",
   "execution_count": 26,
   "metadata": {
    "scrolled": false
   },
   "outputs": [
    {
     "data": {
      "image/png": "[encoded data removed]",
      "text/plain": [
       "<matplotlib.figure.Figure at 0x2288a8ad5c0>"
      ]
     },
     "metadata": {},
     "output_type": "display_data"
    },
    {
     "name": "stdout",
     "output_type": "stream",
     "text": [
      "Epoch 00836: loss did not improve\n",
      "110288/110288 [==============================] - 11s - loss: 0.5627 - acc: 0.7473 - val_loss: 0.5807 - val_acc: 0.7434\n",
      "Sample 1:\n",
      "il a vu un la camion brillant <PAD> <PAD> <PAD> <PAD> <PAD> <PAD> <PAD> <PAD> <PAD> <PAD> <PAD> <PAD> <PAD> <PAD>\n",
      "Il a vu un vieux camion jaune\n",
      "Sample 2:\n",
      "new jersey est parfois calme en automne et il il il en en en <PAD> <PAD> <PAD> <PAD> <PAD> <PAD> <PAD>\n",
      "<PAD> <PAD> <PAD> <PAD> <PAD> <PAD> <PAD> <PAD> <PAD> <PAD> <PAD> <PAD> <PAD> <PAD> <PAD> <PAD> <PAD> <PAD> <PAD> <PAD> <PAD>\n"
     ]
    }
   ],
   "source": [
    "import numpy as np\n",
    "import os.path\n",
    "from keras.callbacks import ModelCheckpoint, EarlyStopping\n",
    "from keras.preprocessing.sequence import pad_sequences\n",
    "\n",
    "def final_predictions(x, y, x_tk, y_tk):\n",
    "    \"\"\"\n",
    "    Gets predictions using the final model\n",
    "    :param x: Preprocessed English data\n",
    "    :param y: Preprocessed French data\n",
    "    :param x_tk: English tokenizer\n",
    "    :param y_tk: French tokenizer\n",
    "    \"\"\"\n",
    "    # TODO: Train neural network using model_final\n",
    "    x = pad(x,y.shape[1])\n",
    "\n",
    "    model = model_final(\n",
    "        padded_x.shape,\n",
    "        y.shape[1],\n",
    "        len(x_tk.word_index) + 1,\n",
    "        len(y_tk.word_index) + 1\n",
    "    )\n",
    "    \n",
    "    weight_path = 'weights.model_final5.hdf5'\n",
    "\n",
    "    checkpointer = ModelCheckpoint(\n",
    "        filepath=weight_path,\n",
    "        save_best_only=True,\n",
    "        monitor='loss',\n",
    "        verbose=1\n",
    "    )\n",
    "\n",
    "    earlystopper = EarlyStopping(\n",
    "        min_delta=0.001,\n",
    "        patience=200,\n",
    "        #verbose=1,\n",
    "        monitor='loss'\n",
    "    )\n",
    "\n",
    "    model.fit(\n",
    "        x,y,\n",
    "        validation_split=0.2,\n",
    "        batch_size=10000, # Push as much data as possible per batch as our GPU can handle. This is 1/3 of all training data.\n",
    "        epochs=10000,\n",
    "        callbacks=[PlotLosses(),checkpointer,earlystopper]\n",
    "    )\n",
    "\n",
    "    model.load_weights(weight_path) # Reload best weights\n",
    "\n",
    "    ## DON'T EDIT ANYTHING BELOW THIS LINE\n",
    "    y_id_to_word = {value: key for key, value in y_tk.word_index.items()}\n",
    "    y_id_to_word[0] = '<PAD>'\n",
    "\n",
    "    sentence = 'he saw a old yellow truck'\n",
    "    sentence = [x_tk.word_index[word] for word in sentence.split()]\n",
    "    sentence = pad_sequences([sentence], maxlen=x.shape[-1], padding='post')\n",
    "    sentences = np.array([sentence[0], x[0]])\n",
    "    predictions = model.predict(sentences, len(sentences))\n",
    "\n",
    "    print('Sample 1:')\n",
    "    print(' '.join([y_id_to_word[np.argmax(x)] for x in predictions[0]]))\n",
    "    print('Il a vu un vieux camion jaune')\n",
    "    print('Sample 2:')\n",
    "    print(' '.join([y_id_to_word[np.argmax(x)] for x in predictions[1]]))\n",
    "    print(' '.join([y_id_to_word[np.argmax(x)] for x in y[0]]))\n",
    "\n",
    "\n",
    "final_predictions(preproc_english_sentences, preproc_french_sentences, english_tokenizer, french_tokenizer)"
   ]
  },
  {
   "cell_type": "markdown",
   "metadata": {},
   "source": [
    "## Submission\n",
    "When you are ready to submit your project, do the following steps:\n",
    "1. Ensure you pass all points on the [rubric](https://review.udacity.com/#!/rubrics/1004/view).\n",
    "2. Submit the following in a zip file.\n",
    "  - `helper.py`\n",
    "  - `machine_translation.ipynb`\n",
    "  - `machine_translation.html`\n",
    "    - You can export the notebook by navigating to **File -> Download as -> HTML (.html)**."
   ]
  }
 ],
 "metadata": {
  "kernelspec": {
   "display_name": "Python 3",
   "language": "python",
   "name": "python3"
  },
  "language_info": {
   "codemirror_mode": {
    "name": "ipython",
    "version": 3
   },
   "file_extension": ".py",
   "mimetype": "text/x-python",
   "name": "python",
   "nbconvert_exporter": "python",
   "pygments_lexer": "ipython3",
   "version": "3.5.4"
  }
 },
 "nbformat": 4,
 "nbformat_minor": 1
}
